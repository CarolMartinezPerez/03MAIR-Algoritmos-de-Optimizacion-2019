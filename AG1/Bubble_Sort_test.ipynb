{
  "nbformat": 4,
  "nbformat_minor": 0,
  "metadata": {
    "colab": {
      "name": "Bubble_Sort_test",
      "provenance": [],
      "collapsed_sections": [],
      "include_colab_link": true
    },
    "kernelspec": {
      "name": "python3",
      "display_name": "Python 3"
    }
  },
  "cells": [
    {
      "cell_type": "markdown",
      "metadata": {
        "id": "view-in-github",
        "colab_type": "text"
      },
      "source": [
        "<a href=\"https://colab.research.google.com/github/CarolMartinezPerez/03MAIR-Algoritmos-de-Optimizacion-2019/blob/master/AG1/Bubble_Sort_test.ipynb\" target=\"_parent\"><img src=\"https://colab.research.google.com/assets/colab-badge.svg\" alt=\"Open In Colab\"/></a>"
      ]
    },
    {
      "cell_type": "code",
      "metadata": {
        "id": "zNglFtorK8mA",
        "colab_type": "code",
        "colab": {}
      },
      "source": [
        "def bubble_sort_f(lista):\n",
        "  n = 0\n",
        "  while n < len(lista)-1:\n",
        "    n = 0\n",
        "    for i in range(0,len(lista)-1):\n",
        "       if lista[i] > lista[i+1]:\n",
        "          lista[i],lista[i+1]=lista[i+1],lista[i]\n",
        "       else:\n",
        "          n += 1\n",
        "  \n",
        "  return lista"
      ],
      "execution_count": 0,
      "outputs": []
    },
    {
      "cell_type": "code",
      "metadata": {
        "id": "LA85X3YXgixS",
        "colab_type": "code",
        "colab": {
          "base_uri": "https://localhost:8080/",
          "height": 199
        },
        "outputId": "07d1b334-909c-48f3-eba5-6cb90d67ab5e"
      },
      "source": [
        "!pip install sorting"
      ],
      "execution_count": 5,
      "outputs": [
        {
          "output_type": "stream",
          "text": [
            "Collecting sorting\n",
            "  Downloading https://files.pythonhosted.org/packages/5a/a7/97e31ce3b9c16f1041bb94063a2778b666ef8ee5862094c248e9445c454c/sorting-1.0.3.tar.gz\n",
            "Building wheels for collected packages: sorting\n",
            "  Building wheel for sorting (setup.py) ... \u001b[?25l\u001b[?25hdone\n",
            "  Created wheel for sorting: filename=sorting-1.0.3-cp36-none-any.whl size=5882 sha256=f104e70caa65a1a16d9e745b939bcdfdc2304609b1cf72bbbfceafed8eeaf548\n",
            "  Stored in directory: /root/.cache/pip/wheels/eb/f9/9d/ea128e53c92937b3f10b15f961f100068615df83d0b7c3affc\n",
            "Successfully built sorting\n",
            "Installing collected packages: sorting\n",
            "Successfully installed sorting-1.0.3\n"
          ],
          "name": "stdout"
        }
      ]
    },
    {
      "cell_type": "code",
      "metadata": {
        "id": "E1CGu3mNeKsu",
        "colab_type": "code",
        "outputId": "326ba22e-537f-450d-d150-fb7a09ed176a",
        "colab": {
          "base_uri": "https://localhost:8080/",
          "height": 53
        }
      },
      "source": [
        "import sorting\n",
        "lista = [4,5,32,2,53,67,23,1]\n",
        "lista_ordenada = sorting.bubble(lista)\n",
        "print(lista_ordenada)\n",
        "print(bubble_sort_f(lista))\n",
        "\n"
      ],
      "execution_count": 10,
      "outputs": [
        {
          "output_type": "stream",
          "text": [
            "[1, 2, 4, 5, 23, 32, 53, 67]\n",
            "[1, 2, 4, 5, 23, 32, 53, 67]\n"
          ],
          "name": "stdout"
        }
      ]
    },
    {
      "cell_type": "code",
      "metadata": {
        "id": "kWioZXo2r8M_",
        "colab_type": "code",
        "colab": {}
      },
      "source": [
        "lista_a = [1,2,5,6]\n",
        "lista_b = [5,6,9]\n",
        "lista_c = []\n",
        "\n",
        "for i in lista_a: # coste computacional nxn, n^2\n",
        "  for t in lista_b:\n",
        "    if i == t :\n",
        "        lista_c.append(i)\n",
        "print(lista_c)"
      ],
      "execution_count": 0,
      "outputs": []
    }
  ]
}