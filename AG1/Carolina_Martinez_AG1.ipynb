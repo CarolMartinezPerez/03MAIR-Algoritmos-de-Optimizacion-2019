{
  "nbformat": 4,
  "nbformat_minor": 0,
  "metadata": {
    "colab": {
      "name": "Carolina Martinez - AG1.ipynb",
      "provenance": [],
      "collapsed_sections": [],
      "include_colab_link": true
    },
    "kernelspec": {
      "name": "python3",
      "display_name": "Python 3"
    }
  },
  "cells": [
    {
      "cell_type": "markdown",
      "metadata": {
        "id": "view-in-github",
        "colab_type": "text"
      },
      "source": [
        "<a href=\"https://colab.research.google.com/github/CarolMartinezPerez/03MAIR-Algoritmos-de-Optimizacion-2019/blob/master/AG1/Carolina_Martinez_AG1.ipynb\" target=\"_parent\"><img src=\"https://colab.research.google.com/assets/colab-badge.svg\" alt=\"Open In Colab\"/></a>"
      ]
    },
    {
      "cell_type": "markdown",
      "metadata": {
        "id": "Anwyx5-aaosC",
        "colab_type": "text"
      },
      "source": [
        "AG1. Algoritmos de Optimización</br>\n",
        "Carolina Martínez</br>\n",
        "https://colab.research.google.com/drive/1NiS6c-qYS-q2VzrYNZTB6zpZ0g4tYzwY"
      ]
    },
    {
      "cell_type": "code",
      "metadata": {
        "id": "nC1tYfKYadCS",
        "colab_type": "code",
        "outputId": "b95f44b4-a4e0-4972-8c4d-9182ec186ba5",
        "colab": {
          "base_uri": "https://localhost:8080/",
          "height": 278
        }
      },
      "source": [
        "# Torres de Hanoi\n",
        "def torres(N, desde, hasta):\n",
        "  if N == 1:\n",
        "    print(\"lleva la ficha desde \", desde, \"hasta \", hasta)\n",
        "  else:                             # Se resuelve con recursividad\n",
        "    torres(N-1,desde,6-desde-hasta) # Por la numeración de las torres: 1 + 2 + 3 = 6\n",
        "    print(\"lleva la ficha desde \", desde, \"hasta \", hasta)\n",
        "    torres(N-1,6-desde-hasta,hasta)\n",
        "\n",
        "torres(4,1,3)"
      ],
      "execution_count": 0,
      "outputs": [
        {
          "output_type": "stream",
          "text": [
            "lleva la ficha desde  1 hasta  2\n",
            "lleva la ficha desde  1 hasta  3\n",
            "lleva la ficha desde  2 hasta  3\n",
            "lleva la ficha desde  1 hasta  2\n",
            "lleva la ficha desde  3 hasta  1\n",
            "lleva la ficha desde  3 hasta  2\n",
            "lleva la ficha desde  1 hasta  2\n",
            "lleva la ficha desde  1 hasta  3\n",
            "lleva la ficha desde  2 hasta  3\n",
            "lleva la ficha desde  2 hasta  1\n",
            "lleva la ficha desde  3 hasta  1\n",
            "lleva la ficha desde  2 hasta  3\n",
            "lleva la ficha desde  1 hasta  2\n",
            "lleva la ficha desde  1 hasta  3\n",
            "lleva la ficha desde  2 hasta  3\n"
          ],
          "name": "stdout"
        }
      ]
    },
    {
      "cell_type": "code",
      "metadata": {
        "id": "Rhe7NeBVZSkQ",
        "colab_type": "code",
        "outputId": "6df21bbd-7556-4ae1-8b6e-abfe7465303f",
        "colab": {
          "base_uri": "https://localhost:8080/",
          "height": 53
        }
      },
      "source": [
        "# cambio de monedas (algoritmo voraz)\n",
        "\n",
        "def cambio_optimo(cantidad,monedas):\n",
        "  cambio = []\n",
        "  S = monedas\n",
        "  resto = cantidad  \n",
        "  while (resto>0 or S):\n",
        "    x = max(S)\n",
        "    if x <= resto:\n",
        "      cambio.append(x)\n",
        "      resto -= x\n",
        "    else:\n",
        "      S.remove(x)     \n",
        "  return cambio\n",
        "\n",
        "print(cambio_optimo(36, [1,5,10]))\n",
        "print(cambio_optimo(57, [25,10,5,1]))"
      ],
      "execution_count": 0,
      "outputs": [
        {
          "output_type": "stream",
          "text": [
            "[10, 10, 10, 5, 1]\n",
            "[25, 25, 5, 1, 1]\n"
          ],
          "name": "stdout"
        }
      ]
    },
    {
      "cell_type": "code",
      "metadata": {
        "id": "o4tGcTSzf0kL",
        "colab_type": "code",
        "outputId": "0f00ee51-2b7c-4f78-aaa4-cee2d3385561",
        "colab": {
          "base_uri": "https://localhost:8080/",
          "height": 729
        }
      },
      "source": [
        "# Problema de las 4 reina\n",
        "\n",
        "print(solucion)\n",
        "def es_prometedora(solucion,etapa):\n",
        "  for i in range(etapa+1):\n",
        "    if solucion.count(solucion[i]) > 1:\n",
        "      return False\n",
        "    for j in range(i+1,etapa+1):\n",
        "      if abs(i-j) == abs(solucion[i]-solucion[j]):\n",
        "        return False\n",
        "  return True\n",
        "\n",
        "def reinas(N, solucion, etapa):\n",
        "  for i in range(1,N+1):\n",
        "    solucion[etapa] = i\n",
        "    if es_prometedora(solucion,etapa):\n",
        "      if etapa == N-1:\n",
        "        print('\\n \\n La solución es :')\n",
        "        print(solucion)\n",
        "      else:\n",
        "        reinas(N,solucion,etapa+1)\n",
        "    else:\n",
        "      None\n",
        "    solucion[etapa]=0\n",
        "    \n",
        "# Ejemplo para N = 5\n",
        "solucion = [0,0,0,0,0]\n",
        "reinas(5,solucion,0)\n",
        "  "
      ],
      "execution_count": 0,
      "outputs": [
        {
          "output_type": "stream",
          "text": [
            "[0, 0, 0, 0, 0]\n",
            "\n",
            " \n",
            " La solución es :\n",
            "[1, 3, 5, 2, 4]\n",
            "\n",
            " \n",
            " La solución es :\n",
            "[1, 4, 2, 5, 3]\n",
            "\n",
            " \n",
            " La solución es :\n",
            "[2, 4, 1, 3, 5]\n",
            "\n",
            " \n",
            " La solución es :\n",
            "[2, 5, 3, 1, 4]\n",
            "\n",
            " \n",
            " La solución es :\n",
            "[3, 1, 4, 2, 5]\n",
            "\n",
            " \n",
            " La solución es :\n",
            "[3, 5, 2, 4, 1]\n",
            "\n",
            " \n",
            " La solución es :\n",
            "[4, 1, 3, 5, 2]\n",
            "\n",
            " \n",
            " La solución es :\n",
            "[4, 2, 5, 3, 1]\n",
            "\n",
            " \n",
            " La solución es :\n",
            "[5, 2, 4, 1, 3]\n",
            "\n",
            " \n",
            " La solución es :\n",
            "[5, 3, 1, 4, 2]\n"
          ],
          "name": "stdout"
        }
      ]
    },
    {
      "cell_type": "code",
      "metadata": {
        "id": "8-A2YTvLxCQ2",
        "colab_type": "code",
        "outputId": "6985eef3-7dd3-4454-91d2-12becfea518e",
        "colab": {
          "base_uri": "https://localhost:8080/",
          "height": 89
        }
      },
      "source": [
        "# Encontrar los dos puntos más cercanos - Fuerza bruta:\n",
        "def puntos_cercanos01(vector):\n",
        "   solucion = [0,0]\n",
        "   if len(vector) == 1: return solucion\n",
        "   distancia = abs(vector[0]-vector[1])\n",
        "   for i in range(len(vector)):\n",
        "      for j in range(i+1,len(vector)):\n",
        "         if abs(vector[i]-vector[j]) < distancia: \n",
        "           distancia = abs(vector[i]-vector[j])\n",
        "           solucion = [vector[i],vector[j]]\n",
        "   return solucion\n",
        "\n",
        "# Muestras\n",
        "import random\n",
        "print(puntos_cercanos01([233,1,5,123,121,7.5,9,122,444])) # Podría ser 123 y 122, o 121 y 122\n",
        "lista_1D = [random.randrange(1,1000) for x in range (1000)]\n",
        "print(lista_1D)\n",
        "print(puntos_cercanos01(lista_1D)) # En este caso siempre se repiten 2 puntos y estos son los más cercanos\n"
      ],
      "execution_count": 9,
      "outputs": [
        {
          "output_type": "stream",
          "text": [
            "[123, 122]\n",
            "[783, 124, 226, 744, 445, 751, 295, 907, 657, 659, 528, 997, 931, 109, 421, 352, 369, 932, 849, 271, 245, 699, 976, 218, 656, 735, 606, 17, 445, 783, 105, 644, 182, 74, 797, 534, 999, 557, 157, 191, 641, 173, 758, 638, 823, 237, 745, 769, 724, 795, 883, 246, 226, 949, 216, 560, 701, 607, 266, 445, 27, 455, 473, 238, 106, 180, 672, 692, 59, 888, 418, 743, 955, 928, 791, 666, 360, 446, 827, 170, 601, 349, 698, 284, 610, 861, 699, 750, 748, 890, 501, 955, 31, 869, 100, 956, 356, 5, 918, 379, 154, 896, 795, 868, 718, 213, 536, 704, 169, 543, 764, 409, 264, 41, 398, 695, 118, 739, 536, 837, 341, 329, 334, 858, 273, 457, 906, 692, 585, 40, 559, 151, 806, 272, 315, 52, 146, 774, 916, 848, 935, 450, 197, 569, 635, 154, 244, 510, 911, 60, 693, 659, 466, 733, 700, 838, 268, 704, 380, 873, 637, 612, 659, 984, 970, 507, 639, 887, 389, 283, 968, 925, 690, 887, 822, 426, 263, 212, 447, 622, 738, 501, 696, 373, 406, 946, 972, 681, 331, 937, 267, 646, 143, 954, 130, 868, 264, 647, 301, 29, 666, 549, 825, 994, 979, 837, 905, 496, 46, 678, 132, 689, 360, 828, 684, 246, 441, 276, 779, 316, 369, 860, 328, 188, 467, 112, 993, 342, 901, 886, 271, 405, 306, 723, 134, 544, 789, 819, 192, 490, 547, 396, 558, 602, 36, 644, 930, 415, 511, 140, 777, 933, 519, 647, 740, 732, 448, 564, 248, 306, 795, 864, 761, 928, 137, 150, 164, 889, 500, 590, 631, 147, 789, 645, 224, 701, 539, 63, 781, 84, 726, 613, 203, 434, 472, 533, 994, 976, 632, 842, 125, 955, 256, 249, 447, 114, 525, 684, 497, 24, 205, 317, 621, 968, 519, 316, 173, 526, 991, 789, 690, 276, 757, 723, 390, 874, 326, 848, 346, 641, 589, 241, 333, 608, 867, 711, 602, 604, 568, 806, 483, 505, 645, 259, 399, 163, 74, 715, 343, 613, 114, 771, 619, 35, 827, 135, 861, 619, 580, 976, 345, 367, 33, 214, 615, 710, 669, 817, 339, 994, 309, 537, 142, 548, 971, 938, 550, 175, 126, 399, 674, 278, 500, 418, 985, 820, 546, 127, 714, 195, 459, 250, 570, 355, 574, 754, 417, 459, 856, 56, 6, 285, 293, 701, 984, 518, 509, 583, 536, 301, 951, 746, 736, 671, 869, 718, 211, 395, 809, 136, 436, 592, 713, 360, 419, 182, 196, 588, 566, 656, 104, 115, 223, 648, 635, 170, 741, 546, 773, 511, 817, 121, 52, 404, 50, 806, 717, 680, 537, 360, 815, 929, 565, 227, 788, 100, 962, 906, 932, 705, 593, 687, 54, 351, 860, 633, 140, 912, 747, 641, 567, 898, 560, 394, 992, 10, 431, 110, 314, 114, 500, 280, 866, 7, 419, 792, 279, 395, 700, 136, 848, 463, 717, 321, 82, 909, 987, 457, 938, 370, 946, 529, 104, 899, 881, 540, 170, 714, 406, 869, 75, 172, 615, 619, 721, 232, 487, 935, 743, 364, 290, 164, 860, 976, 307, 919, 363, 791, 661, 269, 642, 87, 961, 307, 180, 751, 779, 925, 544, 319, 722, 603, 477, 129, 630, 238, 845, 855, 724, 624, 430, 361, 897, 85, 353, 850, 499, 386, 60, 259, 987, 238, 676, 50, 946, 693, 938, 590, 242, 542, 19, 105, 357, 103, 1, 999, 383, 512, 14, 128, 375, 425, 256, 953, 147, 855, 41, 75, 696, 526, 681, 623, 123, 584, 102, 599, 959, 872, 528, 559, 761, 669, 508, 401, 769, 893, 255, 153, 874, 803, 233, 743, 437, 296, 290, 729, 412, 770, 189, 412, 973, 268, 858, 970, 964, 803, 710, 610, 731, 106, 645, 694, 975, 937, 991, 371, 416, 154, 594, 484, 181, 598, 918, 285, 82, 585, 32, 32, 702, 6, 780, 543, 424, 300, 118, 298, 803, 771, 888, 702, 310, 157, 427, 942, 542, 728, 73, 527, 133, 8, 651, 44, 821, 93, 722, 522, 47, 457, 212, 358, 594, 176, 421, 294, 811, 949, 261, 570, 920, 47, 510, 572, 751, 962, 809, 278, 939, 25, 214, 72, 434, 747, 754, 441, 214, 354, 697, 203, 867, 39, 19, 263, 839, 781, 457, 669, 314, 186, 470, 859, 561, 389, 367, 222, 781, 168, 738, 693, 911, 680, 831, 63, 571, 521, 881, 455, 198, 59, 108, 417, 962, 457, 377, 29, 815, 909, 336, 387, 599, 978, 514, 492, 611, 975, 3, 369, 596, 562, 644, 39, 403, 512, 358, 701, 685, 677, 614, 310, 562, 120, 264, 551, 346, 331, 711, 344, 662, 282, 366, 640, 484, 287, 582, 747, 115, 667, 505, 61, 866, 553, 502, 776, 753, 320, 18, 500, 130, 487, 304, 219, 431, 380, 279, 953, 380, 636, 466, 893, 508, 712, 855, 950, 474, 211, 663, 158, 323, 227, 991, 878, 918, 574, 107, 909, 530, 941, 851, 116, 656, 279, 435, 575, 426, 727, 49, 368, 387, 81, 354, 843, 708, 779, 664, 861, 891, 481, 161, 591, 733, 331, 545, 200, 119, 444, 169, 309, 883, 284, 267, 365, 275, 801, 666, 623, 272, 959, 199, 173, 315, 146, 423, 75, 584, 440, 255, 231, 911, 478, 425, 9, 726, 975, 92, 556, 828, 973, 218, 647, 23, 97, 92, 751, 519, 517, 473, 674, 661, 300, 90, 688, 746, 362, 179, 735, 535, 557, 884, 260, 990, 658, 820, 193, 620, 700, 664, 479, 757, 503, 377, 76, 450, 76, 424, 192, 884, 61, 353, 505, 466, 875, 966, 443, 29, 659, 646, 730, 349, 598, 668, 445, 985, 681, 241, 143, 219, 382, 731, 292, 49, 213, 525, 303, 845, 1, 954, 57, 814, 872, 201, 463, 819, 563, 19, 997, 149, 40, 955, 75, 265, 232, 670, 302, 20, 341, 907, 489, 634, 593, 43, 129, 361, 488, 508, 41, 583, 824, 734, 830, 182, 208, 448, 137, 132, 401, 298, 878, 134, 490, 492, 95, 290, 991, 150, 979, 683, 796, 849, 577, 252, 385]\n",
            "[783, 783]\n"
          ],
          "name": "stdout"
        }
      ]
    },
    {
      "cell_type": "markdown",
      "metadata": {
        "id": "vlnGm0PN3XjH",
        "colab_type": "text"
      },
      "source": [
        "El problema sería: $\\frac{1}{2}n(n-1)$ por tanto complejidad $\\Theta(n^2)$\n",
        "\n"
      ]
    },
    {
      "cell_type": "code",
      "metadata": {
        "id": "2mMDIBlfFIYE",
        "colab_type": "code",
        "colab": {
          "base_uri": "https://localhost:8080/",
          "height": 193
        },
        "outputId": "22e99be9-8adb-4f7e-eb71-fb094198263f"
      },
      "source": [
        "!pip install sorting"
      ],
      "execution_count": 1,
      "outputs": [
        {
          "output_type": "stream",
          "text": [
            "Collecting sorting\n",
            "  Downloading https://files.pythonhosted.org/packages/5a/a7/97e31ce3b9c16f1041bb94063a2778b666ef8ee5862094c248e9445c454c/sorting-1.0.3.tar.gz\n",
            "Building wheels for collected packages: sorting\n",
            "  Building wheel for sorting (setup.py) ... \u001b[?25l\u001b[?25hdone\n",
            "  Created wheel for sorting: filename=sorting-1.0.3-cp36-none-any.whl size=5882 sha256=23f80dd2bdebb05f6836594a65f29845256c54cf52dd6828560b0673e1ada893\n",
            "  Stored in directory: /root/.cache/pip/wheels/eb/f9/9d/ea128e53c92937b3f10b15f961f100068615df83d0b7c3affc\n",
            "Successfully built sorting\n",
            "Installing collected packages: sorting\n",
            "Successfully installed sorting-1.0.3\n"
          ],
          "name": "stdout"
        }
      ]
    },
    {
      "cell_type": "code",
      "metadata": {
        "id": "pnRVoyI_3Y6B",
        "colab_type": "code",
        "colab": {
          "base_uri": "https://localhost:8080/",
          "height": 106
        },
        "outputId": "708064f9-7be0-46b3-c941-b6e05f2adf0d"
      },
      "source": [
        "#Encontrar los puntos más cercanos - Divide y vencerás:\n",
        "import math \n",
        "import sorting as sort\n",
        "def puntos_cercanos02(vector):  \n",
        "   vector = sort.quick(vector)\n",
        "   solucion = [0,0]\n",
        "   if len(vector) <= 1:   # Si el vector viene con un único valor\n",
        "       return solucion, math.inf\n",
        "   elif len(vector) > 2 : # Se resuelve con recursividad\n",
        "       solucionA,a = [vector[0],vector[1]], abs(vector[0]-vector[1]) \n",
        "       solucionB,b = puntos_cercanos02(vector[2:]) \n",
        "       if a > b: \n",
        "         solucion = solucionB      \n",
        "       else: \n",
        "         solucion = solucionA\n",
        "       return solucion, min(a,b)\n",
        "   else:                  # Cuando el vector es de 2 posiciones\n",
        "       return [vector[0],vector[1]], abs(vector[0]-vector[1])\n",
        "  \n",
        "  \n",
        "# Muestras\n",
        "import random\n",
        "print(puntos_cercanos02([233,1,0.9,0.95,122,7.5])) \n",
        "print(puntos_cercanos02([233,1,5,123,121,7.5,9,122,444])) # Podría ser 123 y 122, o 121 y 122\n",
        "lista_1D = [random.randrange(1,1000) for x in range (1000)]\n",
        "print(lista_1D)\n",
        "print(puntos_cercanos02(lista_1D)) # En este caso siempre se repiten 2 puntos y estos son los más cercanos "
      ],
      "execution_count": 28,
      "outputs": [
        {
          "output_type": "stream",
          "text": [
            "([0.9, 0.95], 0.04999999999999993)\n",
            "([121, 122], 1)\n",
            "[826, 422, 999, 582, 644, 991, 753, 100, 679, 403, 444, 68, 492, 910, 449, 366, 327, 821, 514, 752, 634, 386, 775, 167, 445, 449, 149, 416, 603, 343, 962, 430, 416, 93, 702, 685, 434, 564, 996, 729, 189, 795, 856, 140, 486, 468, 847, 424, 228, 823, 843, 742, 169, 312, 62, 967, 252, 350, 472, 415, 935, 146, 328, 696, 887, 727, 352, 671, 608, 825, 302, 776, 709, 529, 790, 617, 622, 538, 371, 903, 11, 523, 640, 905, 185, 736, 83, 199, 825, 310, 59, 590, 457, 638, 935, 36, 134, 755, 38, 730, 784, 587, 932, 804, 921, 230, 901, 940, 569, 517, 649, 41, 51, 80, 301, 799, 320, 67, 425, 717, 798, 752, 429, 266, 553, 350, 216, 427, 303, 614, 103, 341, 939, 747, 509, 340, 607, 353, 213, 398, 214, 21, 807, 3, 144, 337, 763, 488, 813, 309, 591, 918, 507, 276, 56, 709, 568, 685, 375, 410, 836, 972, 504, 951, 239, 290, 294, 374, 220, 6, 352, 411, 564, 353, 836, 706, 13, 129, 950, 892, 173, 906, 542, 71, 731, 683, 503, 871, 959, 699, 455, 96, 586, 927, 28, 651, 986, 674, 351, 209, 538, 301, 580, 479, 362, 953, 760, 654, 200, 460, 654, 932, 579, 454, 469, 840, 8, 530, 733, 14, 332, 6, 877, 491, 176, 889, 571, 921, 417, 499, 726, 196, 967, 753, 177, 104, 1, 411, 832, 316, 232, 241, 501, 671, 399, 943, 980, 971, 430, 49, 659, 831, 300, 339, 666, 720, 826, 270, 182, 9, 585, 744, 950, 615, 128, 483, 207, 699, 649, 835, 905, 237, 330, 100, 145, 16, 677, 427, 441, 94, 995, 467, 605, 300, 231, 659, 666, 368, 354, 401, 381, 208, 654, 435, 415, 40, 560, 221, 341, 383, 759, 308, 678, 566, 782, 502, 317, 23, 546, 327, 235, 5, 416, 747, 755, 435, 80, 804, 142, 187, 605, 295, 114, 893, 900, 277, 921, 358, 145, 144, 953, 477, 668, 345, 444, 371, 950, 34, 63, 32, 905, 713, 877, 85, 894, 667, 450, 99, 147, 619, 769, 709, 136, 109, 357, 556, 147, 629, 903, 102, 404, 840, 749, 307, 253, 255, 480, 93, 208, 991, 451, 343, 921, 440, 767, 179, 288, 765, 166, 301, 682, 654, 989, 33, 997, 558, 188, 933, 517, 289, 898, 125, 503, 48, 800, 383, 463, 795, 589, 204, 418, 35, 653, 700, 301, 633, 226, 817, 120, 773, 310, 734, 253, 16, 544, 124, 429, 35, 396, 333, 432, 518, 282, 540, 230, 502, 897, 772, 847, 349, 908, 588, 271, 73, 428, 290, 939, 55, 691, 396, 235, 108, 533, 518, 870, 557, 811, 273, 32, 614, 412, 768, 915, 364, 394, 515, 152, 893, 900, 831, 291, 94, 452, 453, 358, 631, 299, 318, 34, 468, 488, 236, 886, 383, 357, 738, 237, 893, 466, 904, 661, 246, 43, 399, 69, 684, 813, 129, 210, 769, 542, 461, 703, 863, 591, 650, 345, 575, 267, 695, 48, 75, 299, 497, 711, 469, 933, 710, 406, 665, 300, 178, 6, 269, 568, 501, 382, 821, 205, 11, 791, 433, 307, 902, 702, 393, 512, 907, 363, 390, 87, 180, 824, 419, 791, 646, 22, 645, 817, 452, 133, 435, 520, 781, 156, 720, 1, 712, 463, 389, 946, 150, 691, 841, 963, 804, 99, 877, 496, 951, 96, 747, 994, 292, 173, 295, 457, 630, 886, 396, 74, 98, 313, 803, 635, 28, 521, 888, 606, 597, 563, 912, 220, 488, 651, 787, 551, 704, 530, 348, 957, 490, 143, 260, 594, 206, 637, 704, 564, 564, 524, 534, 737, 893, 839, 608, 632, 850, 323, 571, 173, 517, 413, 803, 608, 703, 282, 275, 796, 284, 400, 708, 399, 355, 306, 101, 450, 822, 942, 6, 253, 663, 148, 661, 798, 380, 746, 542, 286, 794, 592, 75, 1, 815, 483, 939, 907, 410, 157, 553, 705, 246, 18, 421, 117, 991, 172, 627, 123, 862, 630, 574, 14, 359, 337, 612, 111, 989, 454, 803, 755, 674, 441, 715, 871, 632, 634, 732, 181, 730, 104, 321, 369, 365, 371, 924, 766, 58, 224, 340, 906, 371, 549, 925, 6, 624, 346, 249, 732, 749, 498, 911, 62, 639, 240, 887, 494, 461, 614, 135, 833, 924, 929, 387, 107, 2, 100, 846, 677, 647, 187, 243, 373, 69, 612, 674, 968, 656, 709, 502, 91, 302, 939, 686, 479, 169, 260, 411, 116, 312, 316, 656, 794, 211, 872, 853, 101, 140, 105, 7, 397, 441, 917, 974, 238, 411, 454, 350, 792, 442, 487, 372, 636, 93, 677, 696, 72, 179, 923, 863, 705, 190, 904, 960, 689, 285, 822, 828, 64, 474, 363, 146, 576, 343, 643, 111, 869, 905, 202, 938, 718, 999, 572, 636, 683, 200, 246, 857, 894, 440, 478, 128, 668, 515, 527, 937, 207, 492, 578, 544, 929, 261, 241, 572, 453, 604, 561, 113, 387, 831, 89, 41, 245, 387, 674, 500, 428, 187, 682, 94, 41, 857, 563, 433, 628, 801, 397, 190, 561, 922, 5, 126, 808, 783, 951, 683, 733, 627, 954, 153, 229, 779, 417, 179, 46, 693, 791, 921, 524, 684, 851, 261, 355, 436, 213, 575, 302, 712, 944, 683, 34, 620, 479, 457, 906, 737, 543, 54, 62, 135, 467, 643, 385, 473, 369, 66, 210, 847, 895, 919, 738, 832, 743, 91, 60, 376, 918, 615, 672, 862, 98, 751, 548, 647, 639, 114, 254, 13, 246, 338, 839, 22, 624, 974, 445, 230, 794, 436, 853, 859, 215, 20, 526, 800, 281, 487, 932, 995, 666, 905, 442, 601, 465, 36, 220, 622, 805, 123, 127, 608, 80, 638, 621, 859, 331, 512, 906, 347, 161, 455, 603, 935, 14, 442, 711, 551, 856, 722, 324, 218, 75, 725, 438, 841, 900, 121, 88, 572, 890, 6, 976, 682, 369, 900, 182, 59, 658, 33, 216, 730, 442, 776, 469, 974, 547, 625, 661, 759, 299, 984, 101, 36, 375, 553, 140, 226, 852, 542, 183, 617]\n",
            "([1, 1], 0)\n"
          ],
          "name": "stdout"
        }
      ]
    },
    {
      "cell_type": "markdown",
      "metadata": {
        "id": "353oLeOr6hdH",
        "colab_type": "text"
      },
      "source": [
        "\n",
        "El problema sería: $\\frac{1}{2}n(n-1)$ por tanto complejidad $\\Theta(n\\log(n))$"
      ]
    },
    {
      "cell_type": "code",
      "metadata": {
        "id": "6Lic5KDOTVyu",
        "colab_type": "code",
        "colab": {}
      },
      "source": [
        "No sé con seguridad si se puede mejorar el problema."
      ],
      "execution_count": 0,
      "outputs": []
    },
    {
      "cell_type": "markdown",
      "metadata": {
        "id": "G0hva_f7XSF7",
        "colab_type": "text"
      },
      "source": [
        "Distancia entre dos puntos con 2 coordenadas: $\\left | \\overrightarrow{AB} \\right | = \\sqrt{(a_1-b_1)^2+(a_2-b_2)^2}$\n",
        "\n",
        "Fuentes utilizadas:\n",
        "\n",
        "*   https://stackoverrun.com/es/q/1324523\n",
        "*   Elemento de lista\n",
        "\n"
      ]
    },
    {
      "cell_type": "code",
      "metadata": {
        "id": "8UOq6ldZTcHh",
        "colab_type": "code",
        "colab": {}
      },
      "source": [
        "#Encontrar los puntos más cercanos - Divide y vencerás para 2D:\n",
        "import math \n",
        "def distancia(p0, p1): \n",
        "    return math.sqrt((p0[0] - p1[0])**2 + (p0[1] - p1[1])**2)  \n",
        "# El algoritmo es el mismo que el anterior, pero usando la función de distancia cartesiana en lugar de la diferencia absoluta\n",
        "def ptos_cercanos2D(lista):\n",
        "   solucion = [0,0]\n",
        "   lista = sort.quick(lista)\n",
        "   if len(lista) <= 1:   # Si el vector viene con un único valor\n",
        "       return solucion, math.inf\n",
        "   elif len(lista) > 2 : # Se resuelve con recursividad\n",
        "       solucionA,a = [lista[0],lista[1]], distancia(lista[0],lista[1]) \n",
        "       solucionB,b = ptos_cercanos2D(lista[2:]) \n",
        "       if a > b: \n",
        "         solucion = solucionB      \n",
        "       else: \n",
        "         solucion = solucionA\n",
        "       return solucion, min(a,b)\n",
        "   else:                  # Cuando el vector es de 2 posiciones\n",
        "       return [lista[0],lista[1]], distancia(lista[0],lista[1])\n"
      ],
      "execution_count": 0,
      "outputs": []
    },
    {
      "cell_type": "code",
      "metadata": {
        "id": "jCZGTNBRbrNy",
        "colab_type": "code",
        "colab": {
          "base_uri": "https://localhost:8080/",
          "height": 52
        },
        "outputId": "693471ef-fc25-4ecb-ec74-1b10a78b5543"
      },
      "source": [
        "# Muestras\n",
        "import random\n",
        "print(ptos_cercanos2D([(233,1),(0.9,0.95),(122,7.5)])) \n",
        "print(ptos_cercanos2D([(233,1),(0.9,0.95),(122,7.5), (1.65,2)])) "
      ],
      "execution_count": 43,
      "outputs": [
        {
          "output_type": "stream",
          "text": [
            "([(0.9, 0.95), (122, 7.5)], 121.27700730146667)\n",
            "([(0, 0), (0.9, 0.95)], 1.3086252328302401)\n"
          ],
          "name": "stdout"
        }
      ]
    },
    {
      "cell_type": "markdown",
      "metadata": {
        "id": "PU4zJqM4d2NL",
        "colab_type": "text"
      },
      "source": [
        "Para 3D vuelve a ser el algoritmo el mismo, pero usando la función de distancia en el espacio."
      ]
    }
  ]
}