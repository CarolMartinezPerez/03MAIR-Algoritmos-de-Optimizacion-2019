{
  "nbformat": 4,
  "nbformat_minor": 0,
  "metadata": {
    "colab": {
      "name": "Sort_test.ipynb",
      "provenance": [],
      "include_colab_link": true
    },
    "kernelspec": {
      "name": "python3",
      "display_name": "Python 3"
    }
  },
  "cells": [
    {
      "cell_type": "markdown",
      "metadata": {
        "id": "view-in-github",
        "colab_type": "text"
      },
      "source": [
        "<a href=\"https://colab.research.google.com/github/CarolMartinezPerez/03MAIR-Algoritmos-de-Optimizacion-2019/blob/master/AG1/Sort_test.ipynb\" target=\"_parent\"><img src=\"https://colab.research.google.com/assets/colab-badge.svg\" alt=\"Open In Colab\"/></a>"
      ]
    },
    {
      "cell_type": "code",
      "metadata": {
        "id": "LA85X3YXgixS",
        "colab_type": "code",
        "colab": {}
      },
      "source": [
        "##!pip install sorting"
      ],
      "execution_count": 0,
      "outputs": []
    },
    {
      "cell_type": "code",
      "metadata": {
        "id": "E1CGu3mNeKsu",
        "colab_type": "code",
        "colab": {
          "base_uri": "https://localhost:8080/",
          "height": 35
        },
        "outputId": "78818df5-beaf-441e-d4aa-bb18122862bb"
      },
      "source": [
        "import sorting\n",
        "lista = [4,5,32,2,53,67,23]\n",
        "lista_ordenada = sorting.bubble(lista)\n",
        "print(lista_ordenada)\n",
        "\n"
      ],
      "execution_count": 3,
      "outputs": [
        {
          "output_type": "stream",
          "text": [
            "[2, 4, 5, 23, 32, 53, 67]\n"
          ],
          "name": "stdout"
        }
      ]
    }
  ]
}