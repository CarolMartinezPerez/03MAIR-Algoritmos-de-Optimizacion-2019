{
  "nbformat": 4,
  "nbformat_minor": 0,
  "metadata": {
    "colab": {
      "name": "Carolina Martinez - AG2.ipynb",
      "provenance": [],
      "collapsed_sections": [],
      "machine_shape": "hm",
      "include_colab_link": true
    },
    "kernelspec": {
      "name": "python3",
      "display_name": "Python 3"
    }
  },
  "cells": [
    {
      "cell_type": "markdown",
      "metadata": {
        "id": "view-in-github",
        "colab_type": "text"
      },
      "source": [
        "<a href=\"https://colab.research.google.com/github/CarolMartinezPerez/03MAIR-Algoritmos-de-Optimizacion-2019/blob/master/AG2/Carolina_Martinez_AG2.ipynb\" target=\"_parent\"><img src=\"https://colab.research.google.com/assets/colab-badge.svg\" alt=\"Open In Colab\"/></a>"
      ]
    },
    {
      "cell_type": "markdown",
      "metadata": {
        "id": "Anwyx5-aaosC",
        "colab_type": "text"
      },
      "source": [
        "Carolina Martínez</br>\n",
        "Link:https://colab.research.google.com/drive/10fbw50EfQVj6NM2ohH8NhKqYbVXu6Wru </br>\n",
        "AG2. Algoritmos de Optimización</br>\n"
      ]
    },
    {
      "cell_type": "code",
      "metadata": {
        "id": "yVZlmOffsz5l",
        "colab_type": "code",
        "colab": {}
      },
      "source": [
        "# ARRAY DE TARIFAS:\n",
        "TARIFAS = [\n",
        "[0,5,4,3,999,999,999],\n",
        "[999,0,999,2,3,999,11],\n",
        "[999,999, 0,1,999,4,10],\n",
        "[999,999,999, 0,5,6,9],\n",
        "[999,999, 999,999,0,999,4],\n",
        "[999,999, 999,999,999,0,3],\n",
        "[999,999,999,999,999,999,0]\n",
        "]"
      ],
      "execution_count": 0,
      "outputs": []
    },
    {
      "cell_type": "code",
      "metadata": {
        "id": "9fhBcT6vjWpT",
        "colab_type": "code",
        "colab": {}
      },
      "source": [
        "def Precios (TARIFAS):\n",
        "   # Total de nodos\n",
        "   N = len(TARIFAS[0])\n",
        "\n",
        "   #Inicialización de la tabla de precios\n",
        "   PRECIOS = [ [9999]*N for i in [9999]*N]\n",
        "   RUTA = [ [\"\"]*N for i in [\"\"]*N]\n",
        "  \n",
        "   for i in range(N-1):\n",
        "     for j in range(i+1, N):\n",
        "       MIN = TARIFAS[i][j]\n",
        "       RUTA[i][j] = i\n",
        "      \n",
        "       for k in range(i, j):\n",
        "         if PRECIOS[i][k] + TARIFAS[k][j] < MIN:\n",
        "             MIN = min(MIN, PRECIOS[i][k] + TARIFAS[k][j] )\n",
        "             RUTA[i][j] = k\n",
        "         PRECIOS[i][j] = MIN\n",
        "        \n",
        "   return PRECIOS,RUTA"
      ],
      "execution_count": 0,
      "outputs": []
    },
    {
      "cell_type": "code",
      "metadata": {
        "id": "EhLrQgjpt-BC",
        "colab_type": "code",
        "outputId": "d04aded9-347a-4871-8c01-6640a2dd98f7",
        "colab": {
          "base_uri": "https://localhost:8080/",
          "height": 306
        }
      },
      "source": [
        "PRECIOS,RUTA = Precios(TARIFAS)  \n",
        "#print(PRECIOS[0][6])\n",
        "\n",
        "print(\"PRECIOS\")\n",
        "for i in range(len(TARIFAS)):\n",
        "  print(PRECIOS[i])\n",
        "\n",
        "print(\"\\nRUTA\")  \n",
        "for i in range(len(TARIFAS)):\n",
        "  print(RUTA[i]) "
      ],
      "execution_count": 3,
      "outputs": [
        {
          "output_type": "stream",
          "text": [
            "PRECIOS\n",
            "[9999, 5, 4, 3, 8, 8, 11]\n",
            "[9999, 9999, 999, 2, 3, 8, 7]\n",
            "[9999, 9999, 9999, 1, 6, 4, 7]\n",
            "[9999, 9999, 9999, 9999, 5, 6, 9]\n",
            "[9999, 9999, 9999, 9999, 9999, 999, 4]\n",
            "[9999, 9999, 9999, 9999, 9999, 9999, 3]\n",
            "[9999, 9999, 9999, 9999, 9999, 9999, 9999]\n",
            "\n",
            "RUTA\n",
            "['', 0, 0, 0, 1, 2, 5]\n",
            "['', '', 1, 1, 1, 3, 4]\n",
            "['', '', '', 2, 3, 2, 5]\n",
            "['', '', '', '', 3, 3, 3]\n",
            "['', '', '', '', '', 4, 4]\n",
            "['', '', '', '', '', '', 5]\n",
            "['', '', '', '', '', '', '']\n"
          ],
          "name": "stdout"
        }
      ]
    },
    {
      "cell_type": "code",
      "metadata": {
        "id": "hRNhmWZrxKPk",
        "colab_type": "code",
        "colab": {}
      },
      "source": [
        "# Solución con programación dinámica: Con ello dispondremos de todas las posibilidades para distintos caminos\n",
        "# con una sola ejecución.\n",
        "def calcular_ruta(RUTA, desde, hasta):\n",
        "  if desde == hasta:\n",
        "    #print(\"Ir a :\" + str(desde))\n",
        "    return desde \n",
        "  else:\n",
        "    return str(calcular_ruta(RUTA, desde, RUTA[desde][hasta])) +  ',' + str(RUTA[desde][hasta]) "
      ],
      "execution_count": 0,
      "outputs": []
    },
    {
      "cell_type": "code",
      "metadata": {
        "id": "EZrYrQIQxNpE",
        "colab_type": "code",
        "outputId": "932130ec-9d48-4ffd-ebe6-0a250dbe5756",
        "colab": {
          "base_uri": "https://localhost:8080/",
          "height": 68
        }
      },
      "source": [
        "print(\"\\nLa ruta es:\")  \n",
        "calcular_ruta(RUTA, 0,6) "
      ],
      "execution_count": 5,
      "outputs": [
        {
          "output_type": "stream",
          "text": [
            "\n",
            "La ruta es:\n"
          ],
          "name": "stdout"
        },
        {
          "output_type": "execute_result",
          "data": {
            "text/plain": [
              "'0,0,2,5'"
            ]
          },
          "metadata": {
            "tags": []
          },
          "execution_count": 5
        }
      ]
    },
    {
      "cell_type": "code",
      "metadata": {
        "id": "Vy9CYVuPhtNu",
        "colab_type": "code",
        "colab": {}
      },
      "source": [
        "# Problema de Asignación de tareas\n",
        "COSTES=[[11,12,18,40],\n",
        "        [14,15,13,22],\n",
        "        [11,17,19,23],\n",
        "        [17,14,20,28]]"
      ],
      "execution_count": 0,
      "outputs": []
    },
    {
      "cell_type": "code",
      "metadata": {
        "id": "M-KkHHDMlOGu",
        "colab_type": "code",
        "outputId": "dc309b7d-e60e-4c0a-a552-03d0392da847",
        "colab": {
          "base_uri": "https://localhost:8080/",
          "height": 34
        }
      },
      "source": [
        "def valor(S,COSTES): # Devuelve el coste de la tarea indicada mediante los valores del vector de entrada S, \n",
        "                     # para cada agente según la posición\n",
        "  VALOR = 0\n",
        "  for i in range(len(S)):\n",
        "    VALOR += COSTES[S[i]][i] \n",
        "  return VALOR\n",
        "  \n",
        "valor((0, 1, 2, 3),COSTES)"
      ],
      "execution_count": 7,
      "outputs": [
        {
          "output_type": "execute_result",
          "data": {
            "text/plain": [
              "73"
            ]
          },
          "metadata": {
            "tags": []
          },
          "execution_count": 7
        }
      ]
    },
    {
      "cell_type": "code",
      "metadata": {
        "id": "rH0c64z2mNQ3",
        "colab_type": "code",
        "colab": {}
      },
      "source": [
        "import itertools\n",
        "def fuerza_bruta(COSTES):\n",
        "   mejor_valor = 10e10\n",
        "   mejor_solucion = ()\n",
        "\n",
        "   for s in list(itertools.permutations(range(len(COSTES)))):\n",
        "     #print(s,valor(s,COSTES))\n",
        "     valor_tmp = valor(s,COSTES)\n",
        "     if valor_tmp < mejor_valor:\n",
        "       mejor_valor = valor_tmp\n",
        "       mejor_solucion = s\n",
        "   print(\"La mejor solucion es:\",mejor_solucion,\" con valor:\",mejor_valor)\n",
        "  "
      ],
      "execution_count": 0,
      "outputs": []
    },
    {
      "cell_type": "code",
      "metadata": {
        "id": "2dARvJLYnpRO",
        "colab_type": "code",
        "colab": {}
      },
      "source": [
        "#Coste inferior para soluciones parciales\n",
        "#  (1,3,) Se asigna la tarea 1 al agente 0 y la tarea 3 al agente 1\n",
        "\n",
        "def CI(S,COSTES):\n",
        "  VALOR = 0\n",
        "  #Valores establecidos\n",
        "  for i in range(len(S)):\n",
        "    VALOR += COSTES[S[i]][i]\n",
        "\n",
        "  #Estimacion\n",
        "  for i in range(len(COSTES)):\n",
        "    if i not in S:\n",
        "      VALOR += min([COSTES[j][i] for j in range(len(S),len(COSTES))])\n",
        "  return VALOR"
      ],
      "execution_count": 0,
      "outputs": []
    },
    {
      "cell_type": "code",
      "metadata": {
        "id": "hs9WGjKjuYB2",
        "colab_type": "code",
        "colab": {}
      },
      "source": [
        "# Coste superior para soluciones parciales (No lo usaremos en ramificación y poda en esta ocasión)\n",
        "def CS(S,COSTES):\n",
        "  VALOR = 0\n",
        "  #Valores establecidos\n",
        "  for i in range(len(S)):\n",
        "    VALOR += COSTES[i][S[i]]\n",
        "\n",
        "  #Estimacion\n",
        "  for i in range(len(COSTES)):\n",
        "    if i not in S:\n",
        "      VALOR += max( [ COSTES[j][i] for j in range(len(S), len(COSTES))  ])\n",
        "  return VALOR"
      ],
      "execution_count": 0,
      "outputs": []
    },
    {
      "cell_type": "code",
      "metadata": {
        "id": "465OejCytoaZ",
        "colab_type": "code",
        "colab": {}
      },
      "source": [
        "#Genera tantos hijos como como posibilidades haya para la siguiente elemento de la tupla\n",
        "#(0,) -> (0,1), (0,2), (0,3)\n",
        "def crear_hijos(NODO, N):\n",
        "  HIJOS = []\n",
        "  for i in range(N):\n",
        "    if i not in NODO:\n",
        "      HIJOS.append({'s':NODO +(i,)    })\n",
        "  return HIJOS"
      ],
      "execution_count": 0,
      "outputs": []
    },
    {
      "cell_type": "code",
      "metadata": {
        "id": "_eR2UBkUuvV6",
        "colab_type": "code",
        "outputId": "da2eea77-2e3a-4871-9232-12f190e3d3bc",
        "colab": {
          "base_uri": "https://localhost:8080/",
          "height": 68
        }
      },
      "source": [
        "def ramificacion_y_poda(COSTES):\n",
        "#Construccion iterativa de soluciones(arbol). En cada etapa asignamos un agente(ramas).\n",
        "#Nodos del grafo  { s:(1,2),CI:3,CS:5  }\n",
        "   #print(COSTES)\n",
        "   DIMENSION = len(COSTES)  \n",
        "   MEJOR_SOLUCION=tuple( i for i in range(len(COSTES)))\n",
        "   CotaSup = valor(MEJOR_SOLUCION,COSTES)\n",
        "   #print(\"Cota Superior:\", CotaSup)\n",
        "\n",
        "   NODOS=[]\n",
        "   NODOS.append({'s':(), 'ci':CI((),COSTES)})\n",
        "\n",
        "   iteracion = 0\n",
        "   while( len(NODOS) > 0):\n",
        "     iteracion +=1\n",
        "\n",
        "     nodo_prometedor = [ min(NODOS, key=lambda x:x['ci']) ][0]['s']\n",
        "     #print(\"Nodo prometedor:\", nodo_prometedor)\n",
        "\n",
        "     #Ramificacion\n",
        "     #Se generan los hijos\n",
        "     HIJOS =[ {'s':x['s'], 'ci':CI(x['s'], COSTES)   } for x in crear_hijos(nodo_prometedor, DIMENSION) ]\n",
        "\n",
        "     #Revisamos la cota superior y nos quedamos con la mejor solucion si llegamos a una solucion final\n",
        "     NODO_FINAL = [x for x in HIJOS if len(x['s']) == DIMENSION  ]\n",
        "     if len(NODO_FINAL ) >0: \n",
        "       #print(\"\\n********Soluciones:\",  [x for x in HIJOS if len(x['s']) == DIMENSION  ] )\n",
        "       if NODO_FINAL[0]['ci'] < CotaSup:\n",
        "         CotaSup = NODO_FINAL[0]['ci']\n",
        "         MEJOR_SOLUCION = NODO_FINAL\n",
        " \n",
        "     #Poda\n",
        "     HIJOS = [x for x in HIJOS if x['ci'] < CotaSup   ]\n",
        "\n",
        "     #Añadimos los hijos \n",
        "     NODOS.extend(HIJOS) \n",
        "\n",
        "     #Eliminamos el nodo ramificado\n",
        "     NODOS =  [  x for x in NODOS if x['s'] != nodo_prometedor    ]\n",
        "   \n",
        "   print(\"La solucion final es:\" ,MEJOR_SOLUCION , \" en \" , iteracion , \" iteraciones\" , \" para dimension: \" ,DIMENSION  )\n",
        "      \n",
        "\n",
        "fuerza_bruta(COSTES)\n",
        "print('RAMIFICACIÓN Y PODA:')\n",
        "ramificacion_y_poda(COSTES)"
      ],
      "execution_count": 12,
      "outputs": [
        {
          "output_type": "stream",
          "text": [
            "La mejor solucion es: (0, 3, 1, 2)  con valor: 61\n",
            "RAMIFICACIÓN Y PODA:\n",
            "La solucion final es: [{'s': (0, 3, 1, 2), 'ci': 61}]  en  19  iteraciones  para dimension:  4\n"
          ],
          "name": "stdout"
        }
      ]
    },
    {
      "cell_type": "markdown",
      "metadata": {
        "id": "umjgUs8A3EgH",
        "colab_type": "text"
      },
      "source": [
        " - ¿Que complejidad tiene el algoritmo por fuerza bruta?\n",
        " - Generar matrices con valores aleatorios de mayores\n",
        "dimensiones (5,6,7,…) y ejecutar ambos algoritmos.\n",
        " - ¿A partir de que dimensión el algoritmo por fuerza bruta\n",
        "deja de ser una opción?\n",
        " - ¿Hay algún valor de la dimensión a partir de la cual el\n",
        "algoritmo de ramificación y poda deja de ser una opción\n",
        "válida?"
      ]
    },
    {
      "cell_type": "markdown",
      "metadata": {
        "colab_type": "text",
        "id": "pyzZ5S6Dy3zB"
      },
      "source": [
        " A la primera pregunta: $2 + n(2+n) => n^2$ es decir: $\\Theta(n^2)$ sería la complejidad por fuerza bruta"
      ]
    },
    {
      "cell_type": "code",
      "metadata": {
        "id": "_DHI4ORG3EBB",
        "colab_type": "code",
        "colab": {}
      },
      "source": [
        "# Matriz de dimensiones,\n",
        "# 6:\n",
        "import numpy as np\n",
        "import random\n",
        "COSTES_5 = np.random.randint(1, 99, (5, 5))\n",
        "COSTES_6 = np.random.randint(1, 99, (6, 6))\n",
        "COSTES_10 = np.random.randint(1, 99, (10, 10))\n",
        "COSTES_11 = np.random.randint(1, 99, (11, 11))\n",
        "COSTES_12 = np.random.randint(1, 99, (12, 12))\n",
        "COSTES_13 = np.random.randint(1, 99, (13, 13))\n",
        "COSTES_14 = np.random.randint(1, 99, (14, 14))\n",
        "COSTES_15 = np.random.randint(1, 99, (15, 15))\n",
        "COSTES_20 = np.random.randint(1, 99, (20, 20))\n",
        "\n"
      ],
      "execution_count": 0,
      "outputs": []
    },
    {
      "cell_type": "code",
      "metadata": {
        "id": "vxZ4epTO-Ge9",
        "colab_type": "code",
        "colab": {
          "base_uri": "https://localhost:8080/",
          "height": 272
        },
        "outputId": "292f7925-e259-48bf-fd0b-57bcf3c74a1d"
      },
      "source": [
        "print('FUERZA BRUTA: ')\n",
        "fuerza_bruta(COSTES_5)\n",
        "print('RAMIFICACIÓN Y PODA: ')\n",
        "ramificacion_y_poda(COSTES_5)\n",
        "\n",
        "print('FUERZA BRUTA: ')\n",
        "fuerza_bruta(COSTES_6)\n",
        "print('RAMIFICACIÓN Y PODA: ')\n",
        "ramificacion_y_poda(COSTES_6)\n",
        "\n",
        "print('FUERZA BRUTA: ')\n",
        "fuerza_bruta(COSTES_10)\n",
        "print('RAMIFICACIÓN Y PODA: ')\n",
        "ramificacion_y_poda(COSTES_10)\n",
        "\n",
        "print('FUERZA BRUTA: KO para n=11')\n",
        "#fuerza_bruta(COSTES_11)\n",
        "print('RAMIFICACIÓN Y PODA: ')\n",
        "ramificacion_y_poda(COSTES_11)"
      ],
      "execution_count": 14,
      "outputs": [
        {
          "output_type": "stream",
          "text": [
            "FUERZA BRUTA: \n",
            "La mejor solucion es: (0, 4, 1, 2, 3)  con valor: 125\n",
            "RAMIFICACIÓN Y PODA: \n",
            "La solucion final es: [{'s': (0, 4, 1, 2, 3), 'ci': 125}]  en  19  iteraciones  para dimension:  5\n",
            "FUERZA BRUTA: \n",
            "La mejor solucion es: (5, 4, 2, 1, 0, 3)  con valor: 112\n",
            "RAMIFICACIÓN Y PODA: \n",
            "La solucion final es: [{'s': (5, 4, 2, 1, 0, 3), 'ci': 112}]  en  27  iteraciones  para dimension:  6\n",
            "FUERZA BRUTA: \n",
            "La mejor solucion es: (4, 9, 8, 2, 5, 1, 7, 6, 0, 3)  con valor: 122\n",
            "RAMIFICACIÓN Y PODA: \n",
            "La solucion final es: [{'s': (9, 3, 8, 2, 5, 6, 7, 4, 0, 1), 'ci': 153}]  en  2796  iteraciones  para dimension:  10\n",
            "FUERZA BRUTA: KO para n=11\n",
            "RAMIFICACIÓN Y PODA: \n",
            "La solucion final es: [{'s': (7, 10, 2, 1, 3, 9, 4, 6, 0, 8, 5), 'ci': 204}]  en  3159  iteraciones  para dimension:  11\n"
          ],
          "name": "stdout"
        }
      ]
    },
    {
      "cell_type": "markdown",
      "metadata": {
        "id": "Z9lp76c8AIII",
        "colab_type": "text"
      },
      "source": [
        "Para n= 11 el algoritmo por fuerza bruta deja de ser una opción por error de ejecución por falta de RAM."
      ]
    },
    {
      "cell_type": "code",
      "metadata": {
        "id": "30T9V2MoAGlg",
        "colab_type": "code",
        "colab": {
          "base_uri": "https://localhost:8080/",
          "height": 51
        },
        "outputId": "bb6fb351-ca97-4069-ec20-1a7ee8f4bce5"
      },
      "source": [
        "\n",
        "print('RAMIFICACIÓN Y PODA: ')\n",
        "ramificacion_y_poda(COSTES_13)"
      ],
      "execution_count": 17,
      "outputs": [
        {
          "output_type": "stream",
          "text": [
            "RAMIFICACIÓN Y PODA: \n",
            "La solucion final es: [{'s': (6, 9, 4, 3, 12, 10, 11, 0, 8, 2, 5, 7, 1), 'ci': 184}]  en  97460  iteraciones  para dimension:  13\n"
          ],
          "name": "stdout"
        }
      ]
    },
    {
      "cell_type": "markdown",
      "metadata": {
        "id": "001NTZK7PxCz",
        "colab_type": "text"
      },
      "source": [
        "RAMIFICACIÓN Y PODA: \n",
        "La solucion final es: [{'s': (6, 9, 4, 3, 12, 10, 11, 0, 8, 2, 5, 7, 1), 'ci': 184}]  en  97460  iteraciones  para dimension:  13"
      ]
    },
    {
      "cell_type": "code",
      "metadata": {
        "id": "TLXiDHknPhAG",
        "colab_type": "code",
        "colab": {
          "base_uri": "https://localhost:8080/",
          "height": 375
        },
        "outputId": "fe1c663b-19c8-442f-f9e3-bf83471f8fed"
      },
      "source": [
        "print('RAMIFICACIÓN Y PODA: ')\n",
        "ramificacion_y_poda(COSTES_14)\n",
        "#print('RAMIFICACIÓN Y PODA: ')\n",
        "#ramificacion_y_poda(COSTES_20)"
      ],
      "execution_count": 19,
      "outputs": [
        {
          "output_type": "stream",
          "text": [
            "RAMIFICACIÓN Y PODA: \n"
          ],
          "name": "stdout"
        },
        {
          "output_type": "error",
          "ename": "KeyboardInterrupt",
          "evalue": "ignored",
          "traceback": [
            "\u001b[0;31m---------------------------------------------------------------------------\u001b[0m",
            "\u001b[0;31mKeyboardInterrupt\u001b[0m                         Traceback (most recent call last)",
            "\u001b[0;32m<ipython-input-19-ad6a6ba05af1>\u001b[0m in \u001b[0;36m<module>\u001b[0;34m()\u001b[0m\n\u001b[1;32m      1\u001b[0m \u001b[0mprint\u001b[0m\u001b[0;34m(\u001b[0m\u001b[0;34m'RAMIFICACIÓN Y PODA: '\u001b[0m\u001b[0;34m)\u001b[0m\u001b[0;34m\u001b[0m\u001b[0;34m\u001b[0m\u001b[0m\n\u001b[0;32m----> 2\u001b[0;31m \u001b[0mramificacion_y_poda\u001b[0m\u001b[0;34m(\u001b[0m\u001b[0mCOSTES_14\u001b[0m\u001b[0;34m)\u001b[0m\u001b[0;34m\u001b[0m\u001b[0;34m\u001b[0m\u001b[0m\n\u001b[0m\u001b[1;32m      3\u001b[0m \u001b[0;31m#print('RAMIFICACIÓN Y PODA: ')\u001b[0m\u001b[0;34m\u001b[0m\u001b[0;34m\u001b[0m\u001b[0;34m\u001b[0m\u001b[0m\n\u001b[1;32m      4\u001b[0m \u001b[0;31m#ramificacion_y_poda(COSTES_20)\u001b[0m\u001b[0;34m\u001b[0m\u001b[0;34m\u001b[0m\u001b[0;34m\u001b[0m\u001b[0m\n",
            "\u001b[0;32m<ipython-input-12-6acf0c5187f1>\u001b[0m in \u001b[0;36mramificacion_y_poda\u001b[0;34m(COSTES)\u001b[0m\n\u001b[1;32m     37\u001b[0m \u001b[0;34m\u001b[0m\u001b[0m\n\u001b[1;32m     38\u001b[0m      \u001b[0;31m#Eliminamos el nodo ramificado\u001b[0m\u001b[0;34m\u001b[0m\u001b[0;34m\u001b[0m\u001b[0;34m\u001b[0m\u001b[0m\n\u001b[0;32m---> 39\u001b[0;31m      \u001b[0mNODOS\u001b[0m \u001b[0;34m=\u001b[0m  \u001b[0;34m[\u001b[0m  \u001b[0mx\u001b[0m \u001b[0;32mfor\u001b[0m \u001b[0mx\u001b[0m \u001b[0;32min\u001b[0m \u001b[0mNODOS\u001b[0m \u001b[0;32mif\u001b[0m \u001b[0mx\u001b[0m\u001b[0;34m[\u001b[0m\u001b[0;34m's'\u001b[0m\u001b[0;34m]\u001b[0m \u001b[0;34m!=\u001b[0m \u001b[0mnodo_prometedor\u001b[0m    \u001b[0;34m]\u001b[0m\u001b[0;34m\u001b[0m\u001b[0;34m\u001b[0m\u001b[0m\n\u001b[0m\u001b[1;32m     40\u001b[0m \u001b[0;34m\u001b[0m\u001b[0m\n\u001b[1;32m     41\u001b[0m    \u001b[0mprint\u001b[0m\u001b[0;34m(\u001b[0m\u001b[0;34m\"La solucion final es:\"\u001b[0m \u001b[0;34m,\u001b[0m\u001b[0mMEJOR_SOLUCION\u001b[0m \u001b[0;34m,\u001b[0m \u001b[0;34m\" en \"\u001b[0m \u001b[0;34m,\u001b[0m \u001b[0miteracion\u001b[0m \u001b[0;34m,\u001b[0m \u001b[0;34m\" iteraciones\"\u001b[0m \u001b[0;34m,\u001b[0m \u001b[0;34m\" para dimension: \"\u001b[0m \u001b[0;34m,\u001b[0m\u001b[0mDIMENSION\u001b[0m  \u001b[0;34m)\u001b[0m\u001b[0;34m\u001b[0m\u001b[0;34m\u001b[0m\u001b[0m\n",
            "\u001b[0;32m<ipython-input-12-6acf0c5187f1>\u001b[0m in \u001b[0;36m<listcomp>\u001b[0;34m(.0)\u001b[0m\n\u001b[1;32m     37\u001b[0m \u001b[0;34m\u001b[0m\u001b[0m\n\u001b[1;32m     38\u001b[0m      \u001b[0;31m#Eliminamos el nodo ramificado\u001b[0m\u001b[0;34m\u001b[0m\u001b[0;34m\u001b[0m\u001b[0;34m\u001b[0m\u001b[0m\n\u001b[0;32m---> 39\u001b[0;31m      \u001b[0mNODOS\u001b[0m \u001b[0;34m=\u001b[0m  \u001b[0;34m[\u001b[0m  \u001b[0mx\u001b[0m \u001b[0;32mfor\u001b[0m \u001b[0mx\u001b[0m \u001b[0;32min\u001b[0m \u001b[0mNODOS\u001b[0m \u001b[0;32mif\u001b[0m \u001b[0mx\u001b[0m\u001b[0;34m[\u001b[0m\u001b[0;34m's'\u001b[0m\u001b[0;34m]\u001b[0m \u001b[0;34m!=\u001b[0m \u001b[0mnodo_prometedor\u001b[0m    \u001b[0;34m]\u001b[0m\u001b[0;34m\u001b[0m\u001b[0;34m\u001b[0m\u001b[0m\n\u001b[0m\u001b[1;32m     40\u001b[0m \u001b[0;34m\u001b[0m\u001b[0m\n\u001b[1;32m     41\u001b[0m    \u001b[0mprint\u001b[0m\u001b[0;34m(\u001b[0m\u001b[0;34m\"La solucion final es:\"\u001b[0m \u001b[0;34m,\u001b[0m\u001b[0mMEJOR_SOLUCION\u001b[0m \u001b[0;34m,\u001b[0m \u001b[0;34m\" en \"\u001b[0m \u001b[0;34m,\u001b[0m \u001b[0miteracion\u001b[0m \u001b[0;34m,\u001b[0m \u001b[0;34m\" iteraciones\"\u001b[0m \u001b[0;34m,\u001b[0m \u001b[0;34m\" para dimension: \"\u001b[0m \u001b[0;34m,\u001b[0m\u001b[0mDIMENSION\u001b[0m  \u001b[0;34m)\u001b[0m\u001b[0;34m\u001b[0m\u001b[0;34m\u001b[0m\u001b[0m\n",
            "\u001b[0;31mKeyboardInterrupt\u001b[0m: "
          ]
        }
      ]
    },
    {
      "cell_type": "markdown",
      "metadata": {
        "id": "zuKNWtAWQx9c",
        "colab_type": "text"
      },
      "source": [
        "En el caso de ramificación y poda, el límite es el tiempo de ejecución y no tanto la memoria .. a partir de 14 ya no pude "
      ]
    }
  ]
}