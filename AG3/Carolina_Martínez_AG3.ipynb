{
  "nbformat": 4,
  "nbformat_minor": 0,
  "metadata": {
    "colab": {
      "name": "Carolina Martínez - AG3.ipynb",
      "provenance": [],
      "collapsed_sections": [],
      "authorship_tag": "ABX9TyPXJW4qix7zEqv48biZFEsq",
      "include_colab_link": true
    },
    "kernelspec": {
      "name": "python3",
      "display_name": "Python 3"
    }
  },
  "cells": [
    {
      "cell_type": "markdown",
      "metadata": {
        "id": "view-in-github",
        "colab_type": "text"
      },
      "source": [
        "<a href=\"https://colab.research.google.com/github/CarolMartinezPerez/03MAIR-Algoritmos-de-Optimizacion-2019/blob/master/AG3/Carolina_Mart%C3%ADnez_AG3.ipynb\" target=\"_parent\"><img src=\"https://colab.research.google.com/assets/colab-badge.svg\" alt=\"Open In Colab\"/></a>"
      ]
    },
    {
      "cell_type": "markdown",
      "metadata": {
        "id": "o0aV7a7oRwUn",
        "colab_type": "text"
      },
      "source": [
        "Actividad guiada 3 - AG3 <br>\n",
        "Carolina Martínez Pérez <br>\n",
        "Url: https://colab.research.google.com/drive/1Q2XQEafOmRxKvegHlT54NbLxJnHWcrVI\n"
      ]
    },
    {
      "cell_type": "markdown",
      "metadata": {
        "id": "_oLdnuKPS5mO",
        "colab_type": "text"
      },
      "source": [
        "Página referencia con juego de datos: \n",
        "\n",
        "[elib.zib.de/pub/mp-testdata/tsp/tsplib/tsplib.html](https://elib.zib.de/pub/mp-testdata/tsp/tsplib/tsplib.html)\n",
        "\n",
        "\n",
        "elib.zib.de/pub/mp-testdata/tsp/tsplib/tsp/swiss42.tsp"
      ]
    },
    {
      "cell_type": "code",
      "metadata": {
        "id": "HXCG9xsARsEJ",
        "colab_type": "code",
        "colab": {
          "base_uri": "https://localhost:8080/",
          "height": 34
        },
        "outputId": "0ce89f04-9809-4ba6-d1f7-06198b01fa5b"
      },
      "source": [
        "import urllib.request\n",
        "\n",
        "file = \"swiss42.tsp\"\n",
        "\n",
        "urllib.request.urlretrieve(\"http://elib.zib.de/pub/mp-testdata/tsp/tsplib/tsp/swiss42.tsp\", file)"
      ],
      "execution_count": 7,
      "outputs": [
        {
          "output_type": "execute_result",
          "data": {
            "text/plain": [
              "('swiss42.tsp', <http.client.HTTPMessage at 0x7f343cbeb3c8>)"
            ]
          },
          "metadata": {
            "tags": []
          },
          "execution_count": 7
        }
      ]
    },
    {
      "cell_type": "code",
      "metadata": {
        "id": "sPAp5XIgTzOE",
        "colab_type": "code",
        "colab": {
          "base_uri": "https://localhost:8080/",
          "height": 156
        },
        "outputId": "0227b163-07e7-4ac2-f7b0-64524d742e79"
      },
      "source": [
        "!pip install tsplib95"
      ],
      "execution_count": 8,
      "outputs": [
        {
          "output_type": "stream",
          "text": [
            "Collecting tsplib95\n",
            "  Downloading https://files.pythonhosted.org/packages/dc/43/039c0621085202f19d6c12b06330bf109743083ce4024137b4713da9c40b/tsplib95-0.6.1-py2.py3-none-any.whl\n",
            "Requirement already satisfied: networkx~=2.1 in /usr/local/lib/python3.6/dist-packages (from tsplib95) (2.4)\n",
            "Requirement already satisfied: Click>=6.0 in /usr/local/lib/python3.6/dist-packages (from tsplib95) (7.0)\n",
            "Requirement already satisfied: decorator>=4.3.0 in /usr/local/lib/python3.6/dist-packages (from networkx~=2.1->tsplib95) (4.4.1)\n",
            "Installing collected packages: tsplib95\n",
            "Successfully installed tsplib95-0.6.1\n"
          ],
          "name": "stdout"
        }
      ]
    },
    {
      "cell_type": "code",
      "metadata": {
        "id": "EEmRJh8XT7te",
        "colab_type": "code",
        "colab": {}
      },
      "source": [
        "import tsplib95\n",
        "import random\n",
        "import math"
      ],
      "execution_count": 0,
      "outputs": []
    },
    {
      "cell_type": "code",
      "metadata": {
        "id": "UH-1OsjZUk_D",
        "colab_type": "code",
        "colab": {}
      },
      "source": [
        "problem = tsplib95.load_problem(file)\n",
        "#Nodos\n",
        "Nodos = list(problem.get_nodes())\n",
        "#Aristas\n",
        "Aristas =  list(problem.get_edges())"
      ],
      "execution_count": 0,
      "outputs": []
    },
    {
      "cell_type": "code",
      "metadata": {
        "id": "9C8W2QGlUvw8",
        "colab_type": "code",
        "colab": {}
      },
      "source": [
        "#list(problem.get_nodes())\n",
        "#list(problem.get_edges())"
      ],
      "execution_count": 0,
      "outputs": []
    },
    {
      "cell_type": "code",
      "metadata": {
        "id": "NEKml0E2UrUV",
        "colab_type": "code",
        "colab": {
          "base_uri": "https://localhost:8080/",
          "height": 34
        },
        "outputId": "777162d4-2a37-4cfe-9c02-c8c43a06951b"
      },
      "source": [
        "#Se genera una solucion aleatoria con comienzo en en el nodo 0\n",
        "def crear_solucion(Nodos): \n",
        "  solucion = [0]\n",
        "  for i in range(len(Nodos)-1):\n",
        "    solucion = solucion + [random.choice(list(set(Nodos) - set(solucion)))] #resta elementos de un cjto\n",
        "  return solucion  \n",
        "\n",
        "#Devuelve la distancia entre dos nodos\n",
        "def distancia(a,b, problem):\n",
        "  return problem.wfunc(a,b)\n",
        "\n",
        "#Devuelve la distancia total de una trayectoria\n",
        "def distancia_total(solucion, problem):\n",
        "  distancia_total = 0\n",
        "  for i in range(len(solucion)-1):\n",
        "    distancia_total += distancia(solucion[i] ,solucion[i+1] ,  problem)\n",
        "  return distancia_total + distancia(solucion[len(solucion)-1] ,solucion[0], problem)\n",
        "\n",
        "distancia(0,2,problem)\n",
        "solucion = crear_solucion(Nodos)\n",
        "distancia_total(solucion, problem)"
      ],
      "execution_count": 14,
      "outputs": [
        {
          "output_type": "execute_result",
          "data": {
            "text/plain": [
              "5162"
            ]
          },
          "metadata": {
            "tags": []
          },
          "execution_count": 14
        }
      ]
    },
    {
      "cell_type": "code",
      "metadata": {
        "id": "49GmV3BEXGdI",
        "colab_type": "code",
        "colab": {
          "base_uri": "https://localhost:8080/",
          "height": 54
        },
        "outputId": "399426ab-58cb-4fba-81f2-b789622af181"
      },
      "source": [
        "#Búsqueda aleatoria\n",
        "def busqueda_aleatoria(problem, N):\n",
        "   mejor_solucion = crear_solucion(Nodos)\n",
        "   mejor_valor = distancia_total(mejor_solucion, problem)\n",
        "\n",
        "   for i in range(N):\n",
        "     solucion = crear_solucion(Nodos)\n",
        "     valor = distancia_total(solucion, problem)\n",
        "     if valor < mejor_valor:\n",
        "       mejor_solucion = solucion\n",
        "       mejor_valor = valor\n",
        "   print('La mejor solucion es', mejor_valor, mejor_solucion)\n",
        "\n",
        "busqueda_aleatoria(problem, 20000) #Cada vez que ejecute sobre los mismos valores multiplico el número de iteraciones aplicadas\n"
      ],
      "execution_count": 16,
      "outputs": [
        {
          "output_type": "stream",
          "text": [
            "La mejor solucion es 3682 [0, 6, 13, 14, 3, 24, 4, 29, 32, 5, 1, 7, 19, 35, 2, 21, 40, 8, 12, 41, 20, 28, 23, 9, 22, 34, 33, 38, 39, 30, 16, 15, 36, 25, 11, 27, 10, 26, 37, 18, 31, 17]\n"
          ],
          "name": "stdout"
        }
      ]
    },
    {
      "cell_type": "markdown",
      "metadata": {
        "id": "bv2zxJaC6tED",
        "colab_type": "text"
      },
      "source": [
        "La mejor solucion es 3519"
      ]
    },
    {
      "cell_type": "code",
      "metadata": {
        "id": "qaCVPt4U25WI",
        "colab_type": "code",
        "colab": {}
      },
      "source": [
        "#Mejor solucion vecina a una solución dada aleatoria\n",
        "def genera_vecina(solucion):\n",
        "  #Generador de soluciones vecinas: 2-opt (intercambiar 2 nodos) Si hay N nodos se generan (N-1)x(N-2)/2 soluciones\n",
        "  #print(solucion)\n",
        "  mejor_solucion = []\n",
        "  mejor_distancia = 10e100\n",
        "  for i in range(1,len(solucion)-1):\n",
        "    for j in range(i+1, len(solucion)):\n",
        "      vecina = solucion[:i] + [solucion[j]] + solucion[i+1:j] + [solucion[i]] + solucion[j+1:] #generador\n",
        "      distancia_vecina = distancia_total(vecina, problem)\n",
        "      if distancia_vecina <= mejor_distancia:\n",
        "        mejor_distancia = distancia_vecina\n",
        "        mejor_solucion = vecina\n",
        "  #print(mejor_distancia)\n",
        "  return mejor_solucion\n",
        "      \n",
        "solucion = crear_solucion(Nodos)\n",
        "mejor_solucion = genera_vecina(solucion)\n",
        "#print(mejor_solucion)"
      ],
      "execution_count": 0,
      "outputs": []
    },
    {
      "cell_type": "markdown",
      "metadata": {
        "id": "ipfW54-T6peK",
        "colab_type": "text"
      },
      "source": [
        "4504"
      ]
    },
    {
      "cell_type": "code",
      "metadata": {
        "id": "zfrVUauj5O9Z",
        "colab_type": "code",
        "colab": {
          "base_uri": "https://localhost:8080/",
          "height": 54
        },
        "outputId": "7f484323-fdfe-41e8-d4b2-f06bd18ad2d3"
      },
      "source": [
        "def busqueda_local(problem, N):\n",
        "  #problem = datos del problema\n",
        "  #N = numero de iteraciones\n",
        "  \n",
        "  mejor_solucion = []\n",
        "  mejor_distancia = 10e100\n",
        "  \n",
        "  solucion_referencia = crear_solucion(Nodos)\n",
        "  \n",
        "  for i in range(N):\n",
        "    vecina = genera_vecina(solucion_referencia)\n",
        "    distancia_vecina = distancia_total(vecina, problem)\n",
        "    if distancia_vecina <= mejor_distancia:\n",
        "      mejor_solucion = vecina\n",
        "      mejor_distancia = distancia_vecina\n",
        "        \n",
        "    solucion_referencia = vecina\n",
        "  print(\"La mejor solución encontrada es \" , mejor_distancia , mejor_solucion)\n",
        "\n",
        "busqueda_local(problem, 1000)"
      ],
      "execution_count": 18,
      "outputs": [
        {
          "output_type": "stream",
          "text": [
            "La mejor solución encontrada es  1768 [0, 18, 12, 10, 8, 9, 39, 21, 24, 40, 23, 41, 25, 11, 7, 17, 35, 36, 37, 15, 16, 14, 31, 20, 33, 19, 13, 5, 26, 6, 1, 32, 34, 38, 22, 30, 29, 28, 27, 2, 4, 3]\n"
          ],
          "name": "stdout"
        }
      ]
    },
    {
      "cell_type": "markdown",
      "metadata": {
        "id": "jB-QCOV26mp3",
        "colab_type": "text"
      },
      "source": [
        "La mejor solución encontrada es  1450 "
      ]
    },
    {
      "cell_type": "code",
      "metadata": {
        "id": "Nlkg_KAe-If8",
        "colab_type": "code",
        "colab": {
          "base_uri": "https://localhost:8080/",
          "height": 71
        },
        "outputId": "abb64637-a8bd-45ce-abcb-e3465f291e2c"
      },
      "source": [
        "def genera_vecina_aleatorio(solucion):\n",
        "  #Generador de 1 solucion vecina 2-opt (intercambiar 2 nodos)\n",
        "  #Se puede mejorar haciendo que la elección no se uniforme sino entre las que estén más proximas\n",
        "  i = random.choice(range(1, len(solucion)) )\n",
        "  j = random.choice(list(set(range(1, len(solucion))) - {i}))\n",
        "  if j<i:\n",
        "    i,j=j,i\n",
        "  vecina = list(solucion[:i] + [solucion[j]] + solucion[i+1:j] + [solucion[i]] + solucion[j+1:])\n",
        "  return vecina\n",
        "\n",
        "solucion = crear_solucion(Nodos)\n",
        "print(solucion, '\\n', genera_vecina_aleatorio(genera_vecina_aleatorio(solucion)))"
      ],
      "execution_count": 19,
      "outputs": [
        {
          "output_type": "stream",
          "text": [
            "[0, 12, 28, 21, 39, 37, 16, 5, 32, 10, 23, 36, 19, 20, 41, 29, 15, 35, 24, 40, 18, 33, 2, 13, 26, 4, 8, 3, 9, 34, 7, 17, 6, 27, 14, 31, 30, 11, 22, 1, 38, 25] \n",
            " [0, 12, 28, 29, 39, 37, 16, 5, 32, 10, 23, 36, 19, 20, 41, 21, 15, 35, 24, 40, 18, 33, 2, 17, 26, 4, 8, 3, 9, 34, 7, 13, 6, 27, 14, 31, 30, 11, 22, 1, 38, 25]\n"
          ],
          "name": "stdout"
        }
      ]
    },
    {
      "cell_type": "code",
      "metadata": {
        "id": "oC4_ydz-ASwt",
        "colab_type": "code",
        "colab": {
          "base_uri": "https://localhost:8080/",
          "height": 3386
        },
        "outputId": "5849f466-0554-4680-c4c9-32a967f7bae2"
      },
      "source": [
        "#Funcion de probabilidad para determinar si se cambia \n",
        "#    a una solución peor respecto a la de referencia(exponencial)\n",
        "def probabilidad(T,d):\n",
        "  if random.random() <= math.exp(-1*d / T)   :\n",
        "    return True\n",
        "  else:\n",
        "    return False\n",
        "\n",
        "\n",
        "def bajar_temperatura(T):\n",
        "  return T*.9999\n",
        "\n",
        "#####################################################################\n",
        "def recocido_simulado(problem, TEMPERATURA=1000):\n",
        "  #problem = datos del problema\n",
        "\n",
        "  solucion_referencia = crear_solucion(Nodos)\n",
        "  distancia_referencia = distancia_total(solucion_referencia, problem)\n",
        "  \n",
        "  mejor_solucion = []\n",
        "  mejor_distancia = 10e100\n",
        "\n",
        "  while TEMPERATURA > 1:\n",
        "    #Genera una solución vecina(aleatoria)\n",
        "    vecina = genera_vecina_aleatorio(solucion_referencia) \n",
        "    \n",
        "    #Calcula su valor(distancia)\n",
        "    distancia_vecina = distancia_total(vecina, problem)\n",
        "    \n",
        "    #Si es la mejor solución de todas se guarda\n",
        "    if distancia_vecina < mejor_distancia:\n",
        "      mejor_solucion = vecina\n",
        "      mejor_distancia = distancia_vecina\n",
        "      print('\\t****Encontrada mejor solucion:', mejor_distancia , mejor_solucion, '\\n')\n",
        "    \n",
        "    #Si la nueva vecina es mejor se cambia y si es peor se cambia según \n",
        "    # una probabilidad dependiente de T y de |distancia_referencia - distancia_vecina|\n",
        "    p = probabilidad(TEMPERATURA, abs(distancia_referencia - distancia_vecina) )\n",
        "    if distancia_vecina < distancia_referencia or p :\n",
        "      solucion_referencia = vecina\n",
        "      distancia_referencia = distancia_vecina\n",
        "    \n",
        "    TEMPERATURA = bajar_temperatura(TEMPERATURA)\n",
        "\n",
        "  print(\"La mejor solución encontrada es :\" , mejor_distancia, mejor_solucion  )\n",
        "  return mejor_solucion\n",
        "\n",
        "sol = recocido_simulado(problem, TEMPERATURA=100000)"
      ],
      "execution_count": 20,
      "outputs": [
        {
          "output_type": "stream",
          "text": [
            "\t****Encontrada mejor solucion: 4813 [0, 12, 9, 27, 10, 24, 34, 25, 7, 21, 30, 23, 5, 8, 15, 31, 32, 26, 38, 18, 35, 20, 33, 37, 36, 1, 17, 4, 29, 39, 13, 11, 3, 28, 22, 6, 2, 14, 40, 16, 19, 41] \n",
            "\n",
            "\t****Encontrada mejor solucion: 4799 [0, 12, 41, 27, 10, 24, 34, 25, 7, 21, 30, 23, 5, 8, 15, 31, 32, 26, 38, 18, 35, 20, 33, 37, 36, 1, 17, 4, 29, 39, 13, 11, 3, 28, 22, 6, 2, 14, 40, 16, 19, 9] \n",
            "\n",
            "\t****Encontrada mejor solucion: 4753 [0, 12, 18, 27, 10, 24, 34, 25, 7, 21, 30, 23, 5, 8, 15, 31, 32, 26, 38, 41, 35, 20, 33, 37, 36, 1, 17, 4, 29, 39, 13, 11, 3, 28, 22, 6, 2, 14, 40, 16, 19, 9] \n",
            "\n",
            "\t****Encontrada mejor solucion: 4742 [0, 8, 18, 20, 41, 23, 34, 31, 7, 21, 37, 33, 5, 12, 15, 13, 32, 26, 38, 22, 4, 27, 24, 25, 36, 1, 17, 35, 29, 39, 10, 11, 3, 16, 30, 6, 2, 14, 40, 9, 19, 28] \n",
            "\n",
            "\t****Encontrada mejor solucion: 4646 [0, 8, 18, 20, 41, 23, 34, 31, 7, 21, 37, 33, 5, 3, 15, 13, 32, 26, 38, 22, 4, 27, 24, 25, 36, 1, 17, 35, 29, 39, 10, 11, 12, 16, 30, 6, 2, 14, 40, 9, 19, 28] \n",
            "\n",
            "\t****Encontrada mejor solucion: 4626 [0, 40, 25, 33, 30, 19, 27, 31, 7, 34, 38, 17, 15, 36, 18, 13, 9, 23, 1, 22, 4, 16, 24, 2, 39, 20, 35, 14, 32, 37, 10, 26, 12, 3, 28, 11, 29, 41, 6, 5, 8, 21] \n",
            "\n",
            "\t****Encontrada mejor solucion: 4562 [0, 40, 25, 33, 30, 39, 27, 31, 7, 34, 38, 17, 15, 36, 18, 13, 9, 23, 1, 22, 4, 16, 24, 2, 19, 20, 35, 14, 32, 37, 10, 26, 12, 3, 28, 11, 29, 41, 6, 5, 8, 21] \n",
            "\n",
            "\t****Encontrada mejor solucion: 4551 [0, 40, 25, 33, 30, 39, 27, 31, 7, 34, 38, 17, 15, 36, 18, 13, 9, 24, 1, 22, 4, 16, 23, 2, 19, 20, 35, 14, 32, 37, 10, 26, 12, 3, 28, 11, 29, 41, 6, 5, 8, 21] \n",
            "\n",
            "\t****Encontrada mejor solucion: 4549 [0, 40, 25, 33, 30, 39, 27, 31, 7, 34, 38, 17, 15, 36, 18, 13, 9, 24, 1, 23, 4, 16, 22, 2, 19, 20, 35, 14, 32, 37, 10, 26, 12, 3, 28, 11, 29, 41, 6, 5, 8, 21] \n",
            "\n",
            "\t****Encontrada mejor solucion: 4484 [0, 40, 25, 39, 30, 33, 27, 31, 7, 34, 38, 17, 15, 36, 18, 13, 9, 24, 20, 23, 4, 16, 22, 2, 19, 1, 35, 14, 32, 37, 10, 26, 12, 3, 28, 11, 29, 41, 6, 5, 8, 21] \n",
            "\n",
            "\t****Encontrada mejor solucion: 4450 [0, 40, 25, 39, 30, 33, 19, 31, 7, 34, 38, 17, 15, 36, 18, 13, 9, 24, 20, 23, 4, 16, 22, 2, 27, 1, 35, 14, 32, 37, 10, 26, 12, 3, 28, 11, 29, 41, 6, 5, 8, 21] \n",
            "\n",
            "\t****Encontrada mejor solucion: 4381 [0, 32, 9, 39, 26, 11, 19, 31, 17, 30, 38, 10, 15, 36, 18, 8, 25, 24, 20, 5, 13, 16, 14, 2, 29, 4, 35, 22, 21, 37, 6, 23, 34, 3, 28, 33, 27, 41, 12, 1, 7, 40] \n",
            "\n",
            "\t****Encontrada mejor solucion: 4211 [0, 32, 28, 39, 22, 14, 19, 31, 17, 30, 24, 10, 35, 36, 25, 8, 6, 26, 11, 18, 20, 7, 15, 4, 33, 23, 5, 13, 21, 34, 37, 2, 27, 3, 9, 29, 38, 41, 12, 16, 1, 40] \n",
            "\n",
            "\t****Encontrada mejor solucion: 4106 [0, 32, 28, 39, 22, 14, 19, 1, 17, 30, 24, 10, 35, 36, 25, 8, 6, 26, 11, 18, 4, 7, 15, 20, 33, 23, 5, 13, 21, 38, 12, 2, 27, 3, 9, 29, 34, 41, 37, 16, 31, 40] \n",
            "\n",
            "\t****Encontrada mejor solucion: 4070 [0, 32, 28, 39, 22, 14, 19, 41, 17, 30, 24, 10, 35, 36, 25, 8, 6, 26, 11, 18, 4, 7, 15, 20, 33, 23, 5, 13, 21, 29, 12, 2, 27, 3, 9, 38, 34, 1, 37, 16, 31, 40] \n",
            "\n",
            "\t****Encontrada mejor solucion: 4029 [0, 32, 28, 39, 22, 14, 19, 41, 17, 30, 24, 10, 35, 36, 6, 8, 25, 26, 11, 18, 4, 7, 15, 20, 33, 23, 5, 13, 21, 29, 12, 2, 27, 3, 9, 38, 34, 1, 37, 16, 31, 40] \n",
            "\n",
            "\t****Encontrada mejor solucion: 3979 [0, 32, 41, 39, 22, 14, 19, 28, 17, 30, 24, 10, 35, 36, 6, 8, 25, 26, 11, 18, 4, 7, 15, 20, 33, 23, 5, 13, 21, 29, 12, 2, 27, 3, 9, 38, 34, 1, 37, 16, 31, 40] \n",
            "\n",
            "\t****Encontrada mejor solucion: 3958 [0, 32, 41, 39, 22, 14, 19, 28, 17, 25, 24, 10, 35, 36, 6, 5, 2, 26, 11, 13, 4, 7, 15, 20, 33, 23, 8, 18, 21, 12, 29, 30, 27, 3, 9, 38, 34, 1, 37, 16, 31, 40] \n",
            "\n",
            "\t****Encontrada mejor solucion: 3894 [0, 32, 41, 39, 22, 14, 19, 28, 17, 10, 24, 35, 31, 36, 6, 5, 2, 26, 11, 13, 4, 7, 15, 20, 33, 23, 8, 18, 21, 12, 29, 30, 27, 3, 9, 38, 34, 1, 37, 16, 25, 40] \n",
            "\n",
            "\t****Encontrada mejor solucion: 3875 [0, 29, 18, 26, 16, 1, 38, 22, 32, 3, 13, 31, 37, 28, 24, 9, 23, 12, 25, 30, 10, 2, 21, 40, 7, 8, 4, 27, 17, 14, 15, 6, 36, 19, 5, 41, 34, 20, 33, 11, 39, 35] \n",
            "\n",
            "\t****Encontrada mejor solucion: 3841 [0, 24, 9, 25, 11, 34, 31, 30, 32, 1, 15, 19, 16, 7, 3, 2, 4, 26, 14, 17, 18, 39, 8, 20, 38, 41, 10, 36, 35, 40, 21, 12, 6, 13, 23, 28, 5, 22, 29, 27, 33, 37] \n",
            "\n",
            "\t****Encontrada mejor solucion: 3796 [0, 24, 9, 25, 11, 34, 31, 30, 32, 1, 15, 19, 16, 7, 3, 2, 5, 26, 37, 17, 18, 39, 8, 20, 38, 41, 10, 36, 35, 40, 21, 12, 6, 13, 23, 28, 4, 22, 29, 27, 33, 14] \n",
            "\n",
            "\t****Encontrada mejor solucion: 3751 [0, 24, 9, 18, 6, 34, 32, 30, 31, 1, 15, 19, 16, 7, 3, 2, 5, 26, 37, 17, 25, 39, 8, 20, 38, 41, 10, 36, 35, 40, 21, 12, 11, 13, 23, 28, 4, 22, 29, 27, 33, 14] \n",
            "\n",
            "\t****Encontrada mejor solucion: 3682 [0, 33, 20, 38, 29, 12, 10, 4, 41, 25, 32, 15, 1, 5, 27, 7, 2, 21, 9, 23, 39, 24, 35, 17, 36, 11, 18, 19, 16, 37, 14, 8, 13, 34, 40, 26, 28, 6, 3, 22, 30, 31] \n",
            "\n",
            "\t****Encontrada mejor solucion: 3635 [0, 33, 20, 38, 29, 12, 10, 27, 41, 25, 32, 15, 1, 5, 7, 4, 2, 21, 9, 23, 39, 24, 35, 17, 36, 11, 18, 19, 16, 37, 14, 8, 13, 34, 40, 26, 28, 6, 3, 22, 30, 31] \n",
            "\n",
            "\t****Encontrada mejor solucion: 3542 [0, 33, 20, 38, 29, 12, 10, 27, 41, 25, 32, 15, 1, 5, 7, 4, 2, 21, 9, 23, 39, 24, 35, 17, 36, 11, 18, 8, 16, 37, 14, 19, 13, 34, 40, 26, 28, 6, 3, 22, 30, 31] \n",
            "\n",
            "\t****Encontrada mejor solucion: 3540 [0, 25, 18, 6, 4, 13, 28, 9, 33, 35, 34, 36, 31, 20, 5, 2, 1, 37, 24, 19, 7, 32, 16, 14, 30, 40, 21, 39, 38, 10, 12, 3, 27, 41, 29, 22, 8, 23, 11, 26, 15, 17] \n",
            "\n",
            "\t****Encontrada mejor solucion: 3532 [0, 1, 3, 39, 28, 18, 32, 34, 12, 30, 20, 35, 31, 38, 23, 9, 22, 24, 21, 8, 40, 2, 19, 14, 7, 17, 36, 15, 26, 16, 13, 6, 37, 4, 10, 25, 27, 11, 29, 33, 5, 41] \n",
            "\n",
            "\t****Encontrada mejor solucion: 3382 [0, 1, 3, 39, 28, 33, 32, 34, 12, 30, 20, 35, 31, 38, 23, 9, 22, 24, 21, 8, 40, 2, 19, 14, 7, 17, 36, 15, 26, 16, 13, 6, 37, 4, 10, 25, 27, 11, 29, 18, 5, 41] \n",
            "\n",
            "\t****Encontrada mejor solucion: 3331 [0, 1, 3, 39, 28, 33, 32, 34, 12, 30, 20, 35, 31, 38, 23, 9, 22, 24, 21, 8, 40, 2, 19, 14, 7, 17, 36, 15, 26, 16, 13, 6, 41, 4, 10, 25, 27, 11, 29, 18, 5, 37] \n",
            "\n",
            "\t****Encontrada mejor solucion: 3308 [0, 16, 27, 31, 20, 7, 28, 11, 9, 3, 29, 26, 13, 30, 15, 14, 37, 19, 35, 36, 6, 18, 12, 4, 2, 23, 21, 39, 38, 34, 33, 32, 25, 22, 24, 10, 8, 40, 41, 5, 17, 1] \n",
            "\n",
            "\t****Encontrada mejor solucion: 3299 [0, 16, 12, 31, 20, 7, 28, 11, 2, 3, 29, 26, 13, 30, 15, 14, 37, 19, 35, 36, 6, 18, 27, 4, 9, 23, 21, 39, 38, 34, 33, 32, 25, 22, 24, 10, 8, 40, 41, 5, 17, 1] \n",
            "\n",
            "\t****Encontrada mejor solucion: 3276 [0, 16, 12, 31, 19, 7, 28, 11, 2, 3, 29, 26, 13, 30, 15, 14, 37, 20, 35, 36, 6, 18, 27, 4, 9, 23, 21, 39, 38, 34, 33, 32, 25, 22, 24, 10, 8, 40, 41, 5, 17, 1] \n",
            "\n",
            "\t****Encontrada mejor solucion: 3164 [0, 16, 12, 31, 19, 7, 28, 11, 2, 3, 29, 26, 13, 4, 15, 14, 37, 20, 35, 36, 6, 18, 27, 30, 9, 23, 21, 39, 38, 34, 33, 32, 25, 22, 24, 10, 8, 40, 41, 5, 17, 1] \n",
            "\n",
            "\t****Encontrada mejor solucion: 3159 [0, 20, 35, 15, 4, 23, 9, 39, 38, 29, 12, 25, 26, 27, 34, 32, 8, 22, 30, 21, 40, 24, 18, 36, 17, 31, 14, 2, 41, 10, 11, 28, 13, 16, 37, 1, 19, 5, 6, 33, 3, 7] \n",
            "\n",
            "\t****Encontrada mejor solucion: 3156 [0, 14, 6, 27, 2, 15, 3, 5, 31, 7, 36, 35, 13, 16, 17, 1, 37, 26, 32, 40, 21, 39, 34, 38, 28, 19, 4, 10, 11, 12, 18, 8, 30, 25, 29, 20, 33, 22, 24, 9, 23, 41] \n",
            "\n",
            "\t****Encontrada mejor solucion: 3099 [0, 14, 6, 27, 2, 15, 3, 5, 31, 7, 36, 35, 13, 16, 17, 1, 37, 26, 32, 40, 21, 39, 34, 38, 28, 19, 4, 10, 11, 12, 18, 25, 30, 8, 29, 20, 33, 22, 24, 9, 23, 41] \n",
            "\n",
            "\t****Encontrada mejor solucion: 3091 [0, 14, 6, 27, 2, 15, 3, 5, 31, 7, 35, 36, 13, 16, 17, 1, 37, 26, 32, 40, 21, 39, 34, 38, 28, 19, 4, 10, 11, 12, 18, 25, 30, 8, 29, 20, 33, 22, 24, 9, 23, 41] \n",
            "\n",
            "\t****Encontrada mejor solucion: 3001 [0, 14, 6, 27, 28, 15, 3, 5, 31, 17, 35, 36, 13, 16, 7, 1, 37, 26, 32, 40, 21, 39, 34, 38, 2, 19, 4, 10, 11, 12, 18, 25, 30, 8, 29, 20, 33, 22, 24, 9, 23, 41] \n",
            "\n",
            "\t****Encontrada mejor solucion: 2981 [0, 1, 23, 18, 31, 7, 27, 11, 10, 25, 5, 35, 36, 17, 20, 33, 6, 37, 15, 16, 14, 32, 34, 13, 12, 19, 26, 40, 9, 3, 2, 8, 22, 38, 39, 24, 21, 30, 29, 28, 41, 4] \n",
            "\n",
            "\t****Encontrada mejor solucion: 2977 [0, 1, 28, 22, 17, 7, 27, 11, 25, 10, 5, 35, 36, 31, 20, 33, 6, 19, 14, 16, 15, 32, 29, 8, 26, 37, 34, 18, 12, 3, 4, 13, 2, 38, 39, 24, 21, 30, 40, 9, 41, 23] \n",
            "\n",
            "\t****Encontrada mejor solucion: 2967 [0, 1, 28, 22, 17, 7, 27, 11, 25, 10, 3, 35, 36, 31, 20, 33, 6, 19, 14, 16, 15, 32, 29, 8, 26, 37, 34, 18, 12, 5, 4, 13, 2, 38, 39, 24, 21, 30, 40, 9, 41, 23] \n",
            "\n",
            "\t****Encontrada mejor solucion: 2882 [0, 1, 28, 22, 17, 7, 27, 11, 25, 10, 3, 35, 36, 31, 20, 33, 6, 19, 14, 16, 15, 37, 29, 8, 26, 32, 34, 18, 12, 5, 4, 13, 2, 38, 39, 24, 21, 30, 40, 9, 41, 23] \n",
            "\n",
            "\t****Encontrada mejor solucion: 2835 [0, 1, 38, 22, 17, 4, 27, 11, 25, 10, 3, 35, 36, 31, 20, 33, 6, 19, 14, 16, 15, 7, 23, 8, 34, 32, 2, 18, 12, 5, 37, 13, 26, 40, 39, 24, 21, 30, 28, 9, 41, 29] \n",
            "\n",
            "\t****Encontrada mejor solucion: 2746 [0, 18, 11, 13, 15, 7, 37, 14, 16, 6, 25, 12, 32, 20, 33, 28, 4, 29, 30, 9, 41, 21, 22, 31, 36, 35, 17, 1, 34, 24, 40, 23, 8, 2, 3, 26, 10, 39, 38, 27, 19, 5] \n",
            "\n",
            "\t****Encontrada mejor solucion: 2733 [0, 6, 5, 15, 19, 16, 14, 4, 9, 27, 33, 39, 24, 21, 23, 40, 8, 41, 11, 10, 12, 26, 22, 38, 29, 34, 28, 2, 3, 30, 32, 25, 18, 13, 17, 37, 31, 36, 35, 7, 20, 1] \n",
            "\n",
            "\t****Encontrada mejor solucion: 2728 [0, 33, 2, 28, 30, 29, 11, 14, 7, 37, 35, 36, 32, 18, 25, 9, 23, 39, 24, 21, 40, 10, 41, 12, 8, 4, 17, 15, 13, 19, 5, 1, 3, 27, 26, 38, 22, 6, 16, 31, 20, 34] \n",
            "\n",
            "\t****Encontrada mejor solucion: 2687 [0, 33, 3, 30, 22, 29, 6, 14, 16, 37, 35, 36, 2, 27, 41, 9, 23, 39, 24, 21, 40, 38, 32, 11, 12, 8, 17, 15, 13, 19, 7, 1, 4, 25, 10, 18, 28, 26, 5, 31, 20, 34] \n",
            "\n",
            "\t****Encontrada mejor solucion: 2635 [0, 33, 29, 30, 22, 3, 6, 14, 16, 37, 35, 36, 17, 2, 41, 9, 23, 39, 24, 21, 40, 38, 32, 11, 12, 8, 4, 28, 13, 19, 7, 1, 27, 25, 10, 18, 15, 26, 5, 31, 20, 34] \n",
            "\n",
            "\t****Encontrada mejor solucion: 2608 [0, 33, 38, 30, 28, 2, 27, 14, 1, 17, 35, 36, 6, 3, 41, 9, 23, 39, 24, 21, 40, 22, 29, 11, 12, 8, 4, 32, 26, 13, 37, 7, 10, 25, 18, 19, 15, 5, 16, 31, 20, 34] \n",
            "\n",
            "\t****Encontrada mejor solucion: 2548 [0, 33, 38, 30, 28, 2, 27, 14, 1, 17, 35, 36, 6, 3, 41, 9, 23, 39, 24, 21, 40, 22, 29, 11, 12, 25, 4, 32, 26, 13, 37, 7, 10, 8, 18, 19, 5, 15, 16, 31, 20, 34] \n",
            "\n",
            "\t****Encontrada mejor solucion: 2480 [0, 33, 38, 30, 28, 2, 27, 1, 14, 17, 35, 36, 6, 3, 41, 9, 23, 39, 24, 21, 40, 22, 29, 11, 12, 25, 4, 32, 26, 13, 37, 7, 10, 8, 18, 19, 5, 15, 16, 31, 20, 34] \n",
            "\n",
            "\t****Encontrada mejor solucion: 2427 [0, 34, 33, 3, 27, 1, 31, 32, 30, 20, 35, 36, 7, 17, 14, 25, 23, 39, 40, 21, 24, 38, 22, 29, 9, 41, 12, 11, 18, 37, 15, 5, 13, 16, 19, 4, 26, 2, 10, 8, 28, 6] \n",
            "\n",
            "\t****Encontrada mejor solucion: 2371 [0, 34, 33, 3, 27, 1, 31, 32, 30, 20, 35, 36, 7, 17, 5, 25, 23, 39, 40, 21, 24, 38, 22, 29, 9, 41, 12, 11, 18, 37, 15, 14, 13, 16, 19, 4, 26, 2, 10, 8, 28, 6] \n",
            "\n",
            "\t****Encontrada mejor solucion: 2361 [0, 34, 33, 3, 27, 1, 31, 32, 30, 20, 35, 36, 7, 17, 5, 25, 23, 39, 40, 21, 24, 38, 22, 29, 9, 41, 12, 11, 18, 19, 15, 14, 13, 16, 37, 4, 26, 2, 10, 8, 28, 6] \n",
            "\n",
            "\t****Encontrada mejor solucion: 2349 [0, 31, 16, 37, 15, 14, 19, 1, 38, 34, 33, 30, 22, 41, 23, 8, 29, 9, 24, 40, 39, 21, 28, 32, 3, 10, 2, 20, 35, 36, 17, 7, 6, 27, 5, 12, 25, 11, 13, 18, 26, 4] \n",
            "\n",
            "\t****Encontrada mejor solucion: 2297 [0, 31, 16, 37, 15, 14, 19, 1, 33, 34, 38, 30, 22, 41, 23, 8, 29, 9, 24, 40, 39, 21, 28, 32, 3, 10, 2, 20, 35, 36, 17, 7, 6, 27, 5, 12, 25, 11, 13, 18, 26, 4] \n",
            "\n",
            "\t****Encontrada mejor solucion: 2291 [0, 16, 19, 13, 6, 4, 1, 7, 34, 33, 38, 30, 8, 41, 23, 9, 24, 22, 21, 40, 39, 29, 28, 32, 27, 10, 3, 20, 35, 36, 17, 37, 15, 31, 14, 12, 11, 25, 2, 18, 5, 26] \n",
            "\n",
            "\t****Encontrada mejor solucion: 2208 [0, 31, 19, 13, 6, 4, 1, 7, 34, 33, 38, 30, 8, 41, 23, 9, 24, 22, 21, 40, 39, 29, 28, 32, 27, 10, 3, 20, 35, 36, 17, 37, 15, 16, 14, 12, 11, 25, 2, 18, 5, 26] \n",
            "\n",
            "\t****Encontrada mejor solucion: 2111 [0, 17, 16, 14, 37, 36, 35, 33, 34, 20, 32, 22, 38, 30, 13, 11, 25, 23, 40, 21, 24, 39, 29, 8, 41, 9, 10, 12, 5, 18, 4, 31, 7, 15, 19, 6, 3, 26, 27, 2, 28, 1] \n",
            "\n",
            "\t****Encontrada mejor solucion: 2087 [0, 17, 16, 14, 37, 36, 35, 33, 34, 20, 32, 22, 38, 30, 13, 11, 25, 23, 40, 21, 24, 39, 29, 8, 10, 9, 41, 12, 18, 6, 4, 31, 7, 15, 19, 5, 3, 26, 27, 2, 28, 1] \n",
            "\n",
            "\t****Encontrada mejor solucion: 2064 [0, 17, 37, 15, 16, 36, 35, 33, 34, 20, 32, 30, 38, 22, 2, 11, 12, 23, 10, 9, 29, 39, 21, 24, 40, 8, 41, 25, 18, 19, 4, 31, 7, 14, 13, 5, 26, 6, 1, 3, 28, 27] \n",
            "\n",
            "\t****Encontrada mejor solucion: 2053 [0, 31, 37, 15, 16, 36, 35, 33, 34, 20, 32, 30, 38, 22, 2, 11, 18, 23, 10, 8, 29, 39, 21, 24, 40, 9, 41, 25, 12, 19, 4, 17, 7, 14, 13, 5, 26, 6, 1, 3, 28, 27] \n",
            "\n",
            "\t****Encontrada mejor solucion: 2039 [0, 31, 37, 15, 16, 36, 35, 33, 20, 34, 32, 30, 38, 22, 28, 11, 18, 12, 10, 8, 29, 39, 21, 24, 40, 9, 41, 25, 23, 6, 4, 17, 7, 14, 13, 5, 26, 1, 19, 3, 2, 27] \n",
            "\n",
            "\t****Encontrada mejor solucion: 2014 [0, 16, 14, 15, 37, 36, 35, 33, 20, 34, 30, 29, 38, 22, 8, 11, 12, 18, 10, 2, 32, 39, 21, 24, 40, 25, 23, 41, 9, 27, 7, 31, 17, 19, 13, 5, 26, 3, 1, 4, 6, 28] \n",
            "\n",
            "\t****Encontrada mejor solucion: 1966 [0, 16, 14, 15, 37, 36, 35, 33, 20, 34, 30, 29, 38, 22, 8, 11, 12, 18, 10, 2, 28, 39, 21, 24, 40, 25, 23, 41, 9, 27, 7, 31, 17, 19, 13, 5, 26, 3, 1, 4, 6, 32] \n",
            "\n",
            "\t****Encontrada mejor solucion: 1962 [0, 16, 14, 15, 37, 36, 35, 33, 20, 34, 30, 29, 38, 22, 8, 11, 12, 18, 10, 2, 28, 21, 39, 24, 40, 23, 25, 41, 9, 27, 7, 31, 17, 19, 13, 5, 26, 3, 1, 4, 6, 32] \n",
            "\n",
            "\t****Encontrada mejor solucion: 1956 [0, 16, 14, 15, 37, 36, 35, 33, 20, 34, 30, 29, 38, 22, 8, 18, 12, 11, 10, 2, 28, 21, 39, 24, 40, 23, 25, 41, 9, 27, 7, 31, 17, 19, 13, 5, 26, 3, 1, 4, 6, 32] \n",
            "\n",
            "\t****Encontrada mejor solucion: 1929 [0, 14, 15, 16, 37, 36, 35, 33, 20, 34, 32, 30, 22, 38, 31, 17, 7, 6, 3, 29, 41, 39, 21, 40, 24, 23, 9, 8, 27, 28, 4, 12, 11, 25, 10, 18, 1, 19, 13, 26, 5, 2] \n",
            "\n",
            "\t****Encontrada mejor solucion: 1917 [0, 16, 14, 17, 31, 36, 35, 20, 33, 34, 38, 22, 29, 30, 32, 7, 15, 37, 8, 23, 9, 39, 40, 24, 21, 41, 25, 10, 28, 2, 27, 18, 12, 11, 26, 3, 4, 19, 13, 6, 1, 5] \n",
            "\n",
            "\t****Encontrada mejor solucion: 1916 [0, 14, 37, 17, 31, 36, 35, 34, 20, 33, 38, 22, 29, 30, 32, 7, 16, 15, 8, 9, 21, 39, 24, 40, 23, 41, 25, 10, 28, 18, 19, 13, 11, 12, 6, 3, 27, 4, 26, 5, 1, 2] \n",
            "\n",
            "\t****Encontrada mejor solucion: 1870 [0, 14, 37, 17, 31, 36, 35, 34, 20, 33, 38, 22, 29, 30, 32, 7, 16, 15, 8, 9, 21, 39, 24, 40, 23, 41, 25, 10, 28, 6, 19, 13, 11, 12, 18, 3, 27, 4, 26, 5, 1, 2] \n",
            "\n",
            "\t****Encontrada mejor solucion: 1839 [0, 14, 37, 17, 31, 36, 35, 34, 20, 33, 38, 22, 29, 30, 32, 7, 15, 16, 8, 9, 24, 39, 21, 40, 23, 41, 25, 10, 18, 26, 19, 13, 5, 12, 11, 3, 4, 6, 28, 2, 27, 1] \n",
            "\n",
            "\t****Encontrada mejor solucion: 1833 [0, 14, 37, 17, 31, 36, 35, 34, 20, 33, 38, 22, 29, 30, 32, 7, 15, 16, 8, 9, 24, 39, 21, 40, 23, 41, 25, 10, 18, 26, 19, 13, 5, 12, 11, 3, 4, 6, 1, 2, 27, 28] \n",
            "\n",
            "\t****Encontrada mejor solucion: 1825 [0, 16, 37, 17, 31, 36, 35, 33, 20, 34, 22, 38, 29, 30, 32, 7, 15, 14, 8, 9, 21, 39, 24, 40, 23, 41, 25, 10, 18, 26, 19, 13, 5, 12, 11, 3, 4, 1, 6, 2, 27, 28] \n",
            "\n",
            "\t****Encontrada mejor solucion: 1815 [0, 16, 37, 17, 31, 36, 35, 33, 20, 34, 22, 38, 29, 30, 32, 7, 15, 14, 8, 9, 21, 39, 24, 40, 23, 41, 25, 10, 18, 5, 19, 13, 12, 11, 26, 3, 4, 1, 6, 2, 27, 28] \n",
            "\n",
            "\t****Encontrada mejor solucion: 1802 [0, 15, 37, 17, 31, 36, 35, 33, 20, 34, 22, 38, 29, 30, 32, 7, 16, 14, 8, 9, 21, 39, 24, 40, 23, 41, 25, 10, 18, 5, 19, 13, 12, 11, 26, 3, 4, 1, 6, 2, 27, 28] \n",
            "\n",
            "\t****Encontrada mejor solucion: 1790 [0, 15, 37, 17, 31, 36, 35, 20, 33, 34, 22, 38, 29, 30, 32, 7, 16, 14, 8, 9, 21, 39, 24, 40, 23, 41, 25, 10, 18, 5, 19, 13, 12, 11, 26, 3, 4, 1, 6, 2, 27, 28] \n",
            "\n",
            "\t****Encontrada mejor solucion: 1751 [0, 1, 7, 17, 31, 36, 35, 33, 20, 34, 38, 22, 32, 37, 15, 16, 14, 6, 3, 27, 39, 21, 24, 40, 23, 9, 8, 10, 26, 5, 19, 13, 4, 18, 12, 11, 25, 41, 30, 29, 28, 2] \n",
            "\n",
            "\t****Encontrada mejor solucion: 1722 [0, 1, 7, 17, 31, 36, 35, 33, 20, 34, 38, 22, 32, 37, 15, 16, 14, 6, 3, 27, 39, 21, 24, 40, 23, 9, 8, 10, 4, 5, 19, 13, 26, 18, 12, 11, 25, 41, 30, 29, 28, 2] \n",
            "\n",
            "\t****Encontrada mejor solucion: 1707 [0, 1, 7, 17, 31, 36, 35, 33, 20, 34, 38, 22, 32, 37, 15, 16, 14, 6, 3, 27, 39, 21, 24, 40, 23, 41, 8, 10, 4, 5, 19, 13, 26, 18, 12, 11, 25, 9, 29, 30, 28, 2] \n",
            "\n",
            "\t****Encontrada mejor solucion: 1703 [0, 1, 7, 17, 31, 36, 35, 20, 34, 33, 38, 22, 32, 37, 14, 15, 16, 19, 13, 9, 21, 39, 24, 40, 23, 41, 8, 27, 2, 6, 4, 5, 26, 18, 12, 11, 25, 10, 29, 30, 28, 3] \n",
            "\n",
            "\t****Encontrada mejor solucion: 1693 [0, 7, 37, 17, 31, 36, 35, 20, 33, 34, 38, 22, 29, 16, 15, 14, 19, 13, 10, 41, 23, 9, 21, 40, 24, 39, 30, 28, 32, 1, 6, 26, 5, 18, 12, 11, 25, 8, 3, 27, 2, 4] \n",
            "\n",
            "\t****Encontrada mejor solucion: 1689 [0, 7, 37, 17, 31, 36, 35, 20, 33, 34, 38, 22, 29, 16, 15, 14, 19, 13, 25, 41, 23, 9, 21, 40, 24, 39, 30, 28, 32, 1, 6, 26, 5, 18, 12, 11, 10, 8, 3, 27, 2, 4] \n",
            "\n",
            "\t****Encontrada mejor solucion: 1686 [0, 7, 37, 17, 31, 36, 35, 33, 20, 34, 38, 22, 30, 14, 15, 16, 19, 13, 18, 10, 8, 9, 40, 24, 21, 39, 29, 28, 3, 4, 6, 5, 26, 12, 11, 25, 41, 23, 27, 2, 32, 1] \n",
            "\n",
            "\t****Encontrada mejor solucion: 1685 [0, 7, 37, 17, 31, 36, 35, 33, 20, 34, 38, 22, 30, 14, 15, 16, 19, 13, 18, 10, 23, 9, 40, 24, 21, 39, 29, 28, 3, 4, 6, 5, 26, 12, 11, 25, 41, 8, 27, 2, 32, 1] \n",
            "\n",
            "\t****Encontrada mejor solucion: 1673 [0, 7, 37, 17, 31, 36, 35, 20, 33, 34, 38, 22, 30, 14, 15, 16, 19, 13, 18, 10, 23, 9, 40, 24, 21, 39, 29, 28, 3, 4, 6, 5, 26, 12, 11, 25, 41, 8, 27, 2, 32, 1] \n",
            "\n",
            "\t****Encontrada mejor solucion: 1670 [0, 7, 37, 17, 31, 36, 35, 20, 33, 34, 38, 22, 30, 15, 16, 14, 19, 13, 18, 10, 41, 23, 21, 40, 24, 39, 29, 28, 3, 4, 6, 5, 26, 12, 11, 25, 9, 8, 2, 27, 32, 1] \n",
            "\n",
            "\t****Encontrada mejor solucion: 1662 [0, 7, 37, 17, 31, 36, 35, 20, 33, 34, 38, 22, 30, 15, 16, 14, 19, 13, 12, 41, 9, 23, 40, 24, 21, 39, 29, 28, 3, 4, 6, 5, 26, 18, 11, 25, 10, 8, 2, 27, 32, 1] \n",
            "\n",
            "\t****Encontrada mejor solucion: 1651 [0, 7, 37, 17, 31, 36, 35, 20, 33, 34, 38, 22, 32, 16, 14, 15, 19, 13, 11, 41, 9, 23, 40, 24, 21, 39, 29, 30, 27, 4, 6, 5, 26, 18, 12, 25, 10, 8, 28, 2, 3, 1] \n",
            "\n",
            "\t****Encontrada mejor solucion: 1643 [0, 7, 37, 17, 31, 36, 35, 20, 33, 34, 38, 22, 32, 16, 15, 14, 19, 13, 11, 41, 9, 23, 40, 24, 21, 39, 29, 30, 27, 4, 6, 5, 26, 18, 12, 25, 10, 8, 28, 2, 3, 1] \n",
            "\n",
            "\t****Encontrada mejor solucion: 1642 [0, 7, 37, 17, 31, 36, 35, 20, 33, 34, 38, 22, 32, 16, 15, 14, 19, 13, 11, 41, 9, 23, 40, 24, 21, 39, 29, 30, 2, 4, 6, 5, 26, 18, 12, 25, 10, 8, 28, 27, 3, 1] \n",
            "\n",
            "\t****Encontrada mejor solucion: 1639 [0, 7, 37, 17, 31, 36, 35, 20, 33, 34, 38, 22, 32, 15, 14, 16, 19, 13, 25, 41, 9, 23, 40, 24, 21, 39, 29, 30, 27, 4, 6, 5, 26, 18, 11, 12, 10, 8, 28, 2, 3, 1] \n",
            "\n",
            "\t****Encontrada mejor solucion: 1625 [0, 7, 37, 17, 31, 36, 35, 20, 33, 34, 38, 22, 32, 15, 14, 16, 19, 13, 25, 41, 23, 9, 40, 24, 21, 39, 29, 30, 27, 4, 6, 5, 26, 18, 11, 12, 10, 8, 28, 2, 3, 1] \n",
            "\n",
            "\t****Encontrada mejor solucion: 1619 [0, 7, 37, 17, 31, 36, 35, 20, 33, 34, 38, 22, 32, 15, 14, 16, 19, 13, 25, 41, 23, 9, 40, 24, 21, 39, 29, 30, 28, 4, 6, 5, 26, 18, 11, 12, 10, 8, 27, 2, 3, 1] \n",
            "\n",
            "\t****Encontrada mejor solucion: 1613 [0, 7, 37, 17, 31, 36, 35, 20, 33, 34, 38, 22, 32, 15, 14, 16, 19, 13, 11, 41, 23, 9, 40, 24, 21, 39, 29, 30, 28, 4, 6, 5, 26, 18, 12, 25, 10, 8, 2, 27, 3, 1] \n",
            "\n",
            "\t****Encontrada mejor solucion: 1612 [0, 7, 37, 17, 31, 36, 35, 20, 33, 34, 38, 22, 32, 15, 16, 14, 19, 13, 12, 41, 23, 9, 40, 24, 21, 39, 29, 30, 28, 4, 6, 5, 26, 18, 11, 25, 10, 8, 2, 27, 3, 1] \n",
            "\n",
            "\t****Encontrada mejor solucion: 1604 [0, 7, 37, 17, 31, 36, 35, 20, 33, 34, 38, 22, 32, 15, 16, 14, 19, 13, 18, 41, 23, 40, 24, 21, 39, 9, 29, 30, 28, 4, 6, 5, 26, 12, 11, 25, 10, 8, 2, 27, 3, 1] \n",
            "\n",
            "La mejor solución encontrada es : 1604 [0, 7, 37, 17, 31, 36, 35, 20, 33, 34, 38, 22, 32, 15, 16, 14, 19, 13, 18, 41, 23, 40, 24, 21, 39, 9, 29, 30, 28, 4, 6, 5, 26, 12, 11, 25, 10, 8, 2, 27, 3, 1]\n"
          ],
          "name": "stdout"
        }
      ]
    },
    {
      "cell_type": "markdown",
      "metadata": {
        "id": "ajhnR1jhBcu9",
        "colab_type": "text"
      },
      "source": [
        "La mejor solución encontrada es : 1568"
      ]
    },
    {
      "cell_type": "code",
      "metadata": {
        "id": "aVJopNi__y6H",
        "colab_type": "code",
        "colab": {}
      },
      "source": [
        "#Colonia de hormigas. \n",
        "def Add_Nodo(problem, H ,T ) :\n",
        "  #Establecer una una funcion de probabilidad para \n",
        "  # añadir un nuevo nodo dependiendo de los nodos mas cercanos y de las feromonas depositadas\n",
        "  Nodos = list(problem.get_nodes())\n",
        "  return random.choice(   list(set(range(1,len(Nodos))) - set(H) )  )\n",
        "\n",
        "\n",
        "def Incrementa_Feromona(problem, T, H):\n",
        "  #Incrementar segun la calidad de la solución. Añadir una cantidad inversamente proporcional a la distancia total \n",
        "  for i in range(len(H)-1):\n",
        "    T[H[i]][H[i+1]] += 1000/distancia_total(H, problem)\n",
        "  return T\n",
        "\n",
        "def Evaporar_Feromonas(T):\n",
        "  #Podemos elegir diferentes funciones de evaporación dependiendo de la cantidad actual y de la suma total de feromonas depositadas,...\n",
        "  #Evapora 0.3 el valor de la feromona, sin que baje de 1\n",
        "  T = [[ max(T[i][j] - 0.3 , 1) for i in range(len(Nodos)) ] for j in range(len(Nodos))]\n",
        "  return T\n",
        "\n",
        "# Primera iteración\n",
        "def hormigas(problem, N) :\n",
        "  #problem = datos del problema\n",
        "  #N = Número de agentes(hormigas)\n",
        "    \n",
        "  #Nodos\n",
        "  Nodos = list(problem.get_nodes())\n",
        "    #Aristas\n",
        "  Aristas = list(problem.get_edges()) \n",
        "  \n",
        "  #Inicializa las aristas con una cantidad inicial de feromonas:1\n",
        "  T = [[ 1 for _ in range(len(Nodos)) ] for _ in range(len(Nodos))]\n",
        "  \n",
        "  #Se generan los agentes(hormigas) que serán estructuras de caminos desde 0\n",
        "  Hormiga = [[0] for _ in range(N)]\n",
        "\n",
        "  #Recorre cada agente construyendo la solución\n",
        "  for h in range(N) :\n",
        "    #print(\"\\nAgente:\", h)\n",
        "    #Para cada agente se construye un camino\n",
        "    for i in range(len(Nodos)-1) :\n",
        "      \n",
        "      #Elige el siguiente nodo\n",
        "      Nuevo_Nodo = Add_Nodo(problem, Hormiga[h] ,T )\n",
        "      \n",
        "      Hormiga[h].append(Nuevo_Nodo)     \n",
        "    \n",
        "    #Incrementa feromonas en esa arista \n",
        "    T = Incrementa_Feromona(problem, T, Hormiga[h] )\n",
        "    #print(\"Feromonas(1)\", T)\n",
        "      \n",
        "    #Evapora Feromonas  \n",
        "    T = Evaporar_Feromonas(T)\n",
        "    #print(\"Feromonas(2)\", T)\n",
        "\n",
        "    #Seleccionamos el mejor agente\n",
        "  mejor_solucion = []\n",
        "  mejor_distancia = 10e100\n",
        "  for h in range(N) :\n",
        "    distancia_actual = distancia_total(Hormiga[h], problem)\n",
        "    if distancia_actual < mejor_distancia:\n",
        "      mejor_solucion = Hormiga[h]\n",
        "      mejor_distancia =distancia_actual\n",
        "  \n",
        "  \n",
        "  print(mejor_solucion)\n",
        "  print(mejor_distancia)\n",
        "  "
      ],
      "execution_count": 0,
      "outputs": []
    },
    {
      "cell_type": "code",
      "metadata": {
        "id": "dxdtJaVfPuC0",
        "colab_type": "code",
        "colab": {
          "base_uri": "https://localhost:8080/",
          "height": 71
        },
        "outputId": "6e6fea9b-6d3d-405a-bc48-7cbc497f6254"
      },
      "source": [
        "hormigas(problem, 5000)"
      ],
      "execution_count": 24,
      "outputs": [
        {
          "output_type": "stream",
          "text": [
            "[0, 11, 20, 18, 26, 29, 21, 33, 34, 17, 7, 6, 9, 25, 2, 4, 8, 41, 23, 13, 22, 38, 1, 32, 12, 24, 30, 27, 36, 5, 10, 40, 39, 28, 31, 35, 37, 3, 19, 14, 16, 15]\n",
            "3731\n"
          ],
          "name": "stdout"
        }
      ]
    },
    {
      "cell_type": "markdown",
      "metadata": {
        "id": "BRIs5lE-XrZ9",
        "colab_type": "text"
      },
      "source": [
        "Con 5000 Agentes: 3731"
      ]
    }
  ]
}